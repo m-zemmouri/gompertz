{
 "cells": [
  {
   "cell_type": "markdown",
   "metadata": {
    "colab_type": "text",
    "id": "view-in-github"
   },
   "source": [
    "<a href=\"https://colab.research.google.com/github/zemimoh/gompertz/blob/main/gompertz.ipynb\" target=\"_parent\"><img src=\"https://colab.research.google.com/assets/colab-badge.svg\" alt=\"Open In Colab\"/></a>"
   ]
  },
  {
   "cell_type": "markdown",
   "metadata": {
    "id": "UpeNVjrCdXXq"
   },
   "source": [
    "#Import Section\n",
    "Import packages\n"
   ]
  },
  {
   "cell_type": "code",
   "execution_count": 1,
   "metadata": {
    "id": "aXwZaLdOdSnm"
   },
   "outputs": [],
   "source": [
    "import numpy as np\n",
    "import pandas as pd\n",
    "import matplotlib.pyplot as plt\n",
    "from pandas.plotting import register_matplotlib_converters \n",
    "##needed to properly use datetime in plots\n",
    "register_matplotlib_converters()  \n",
    "from datetime import datetime,timedelta\n",
    "import sklearn.metrics as sklm\n",
    "from scipy.optimize import curve_fit\n",
    "from scipy.optimize import fsolve"
   ]
  },
  {
   "cell_type": "markdown",
   "metadata": {
    "id": "_SaXCKoVdyqi"
   },
   "source": [
    "#Load Data\n",
    "Define URL of data source and import data into Pandas"
   ]
  },
  {
   "cell_type": "code",
   "execution_count": 2,
   "metadata": {
    "colab": {
     "base_uri": "https://localhost:8080/"
    },
    "id": "dnLqIJYud0jb",
    "outputId": "a45d0664-eaa6-4652-b02c-4cf16e213c5f"
   },
   "outputs": [
    {
     "output_type": "execute_result",
     "data": {
      "text/plain": [
       "array(['1/22/20', '1/23/20', '1/24/20', '1/25/20', '1/26/20', '1/27/20',\n",
       "       '1/28/20', '1/29/20', '1/30/20', '1/31/20', '2/1/20', '2/2/20',\n",
       "       '2/3/20', '2/4/20', '2/5/20', '2/6/20', '2/7/20', '2/8/20',\n",
       "       '2/9/20', '2/10/20', '2/11/20', '2/12/20', '2/13/20', '2/14/20',\n",
       "       '2/15/20', '2/16/20', '2/17/20', '2/18/20', '2/19/20', '2/20/20',\n",
       "       '2/21/20', '2/22/20', '2/23/20', '2/24/20', '2/25/20', '2/26/20',\n",
       "       '2/27/20', '2/28/20', '2/29/20', '3/1/20', '3/2/20', '3/3/20',\n",
       "       '3/4/20', '3/5/20', '3/6/20', '3/7/20', '3/8/20', '3/9/20',\n",
       "       '3/10/20', '3/11/20', '3/12/20', '3/13/20', '3/14/20', '3/15/20',\n",
       "       '3/16/20', '3/17/20', '3/18/20', '3/19/20', '3/20/20', '3/21/20',\n",
       "       '3/22/20', '3/23/20', '3/24/20', '3/25/20', '3/26/20', '3/27/20',\n",
       "       '3/28/20', '3/29/20', '3/30/20', '3/31/20', '4/1/20', '4/2/20',\n",
       "       '4/3/20', '4/4/20', '4/5/20', '4/6/20', '4/7/20', '4/8/20',\n",
       "       '4/9/20', '4/10/20', '4/11/20', '4/12/20', '4/13/20', '4/14/20',\n",
       "       '4/15/20', '4/16/20', '4/17/20', '4/18/20', '4/19/20', '4/20/20',\n",
       "       '4/21/20', '4/22/20', '4/23/20', '4/24/20', '4/25/20', '4/26/20',\n",
       "       '4/27/20', '4/28/20', '4/29/20', '4/30/20', '5/1/20', '5/2/20',\n",
       "       '5/3/20', '5/4/20', '5/5/20', '5/6/20', '5/7/20', '5/8/20',\n",
       "       '5/9/20', '5/10/20', '5/11/20', '5/12/20', '5/13/20', '5/14/20',\n",
       "       '5/15/20', '5/16/20', '5/17/20', '5/18/20', '5/19/20', '5/20/20',\n",
       "       '5/21/20', '5/22/20', '5/23/20', '5/24/20', '5/25/20', '5/26/20',\n",
       "       '5/27/20', '5/28/20', '5/29/20', '5/30/20', '5/31/20', '6/1/20',\n",
       "       '6/2/20', '6/3/20', '6/4/20', '6/5/20', '6/6/20', '6/7/20',\n",
       "       '6/8/20', '6/9/20', '6/10/20', '6/11/20', '6/12/20', '6/13/20',\n",
       "       '6/14/20', '6/15/20', '6/16/20', '6/17/20', '6/18/20', '6/19/20',\n",
       "       '6/20/20', '6/21/20', '6/22/20', '6/23/20', '6/24/20', '6/25/20',\n",
       "       '6/26/20', '6/27/20', '6/28/20', '6/29/20', '6/30/20', '7/1/20',\n",
       "       '7/2/20', '7/3/20', '7/4/20', '7/5/20', '7/6/20', '7/7/20',\n",
       "       '7/8/20', '7/9/20', '7/10/20', '7/11/20', '7/12/20', '7/13/20',\n",
       "       '7/14/20', '7/15/20', '7/16/20', '7/17/20', '7/18/20', '7/19/20',\n",
       "       '7/20/20', '7/21/20', '7/22/20', '7/23/20', '7/24/20', '7/25/20',\n",
       "       '7/26/20', '7/27/20', '7/28/20', '7/29/20', '7/30/20', '7/31/20',\n",
       "       '8/1/20', '8/2/20', '8/3/20', '8/4/20', '8/5/20', '8/6/20',\n",
       "       '8/7/20', '8/8/20', '8/9/20', '8/10/20', '8/11/20', '8/12/20',\n",
       "       '8/13/20', '8/14/20', '8/15/20', '8/16/20', '8/17/20', '8/18/20',\n",
       "       '8/19/20', '8/20/20', '8/21/20', '8/22/20', '8/23/20', '8/24/20',\n",
       "       '8/25/20', '8/26/20', '8/27/20', '8/28/20', '8/29/20', '8/30/20',\n",
       "       '8/31/20', '9/1/20', '9/2/20', '9/3/20', '9/4/20', '9/5/20',\n",
       "       '9/6/20', '9/7/20', '9/8/20', '9/9/20', '9/10/20', '9/11/20',\n",
       "       '9/12/20', '9/13/20', '9/14/20', '9/15/20', '9/16/20', '9/17/20',\n",
       "       '9/18/20', '9/19/20', '9/20/20', '9/21/20', '9/22/20', '9/23/20',\n",
       "       '9/24/20', '9/25/20', '9/26/20', '9/27/20', '9/28/20', '9/29/20',\n",
       "       '9/30/20', '10/1/20', '10/2/20', '10/3/20', '10/4/20', '10/5/20',\n",
       "       '10/6/20', '10/7/20', '10/8/20', '10/9/20', '10/10/20', '10/11/20',\n",
       "       '10/12/20', '10/13/20', '10/14/20', '10/15/20', '10/16/20',\n",
       "       '10/17/20', '10/18/20', '10/19/20', '10/20/20', '10/21/20',\n",
       "       '10/22/20', '10/23/20', '10/24/20', '10/25/20', '10/26/20',\n",
       "       '10/27/20', '10/28/20', '10/29/20', '10/30/20', '10/31/20',\n",
       "       '11/1/20', '11/2/20', '11/3/20', '11/4/20', '11/5/20', '11/6/20',\n",
       "       '11/7/20', '11/8/20', '11/9/20', '11/10/20', '11/11/20',\n",
       "       '11/12/20', '11/13/20', '11/14/20', '11/15/20', '11/16/20',\n",
       "       '11/17/20', '11/18/20', '11/19/20', '11/20/20', '11/21/20',\n",
       "       '11/22/20', '11/23/20', '11/24/20', '11/25/20', '11/26/20',\n",
       "       '11/27/20', '11/28/20', '11/29/20', '11/30/20', '12/1/20',\n",
       "       '12/2/20', '12/3/20', '12/4/20', '12/5/20', '12/6/20', '12/7/20',\n",
       "       '12/8/20', '12/9/20', '12/10/20', '12/11/20', '12/12/20',\n",
       "       '12/13/20', '12/14/20', '12/15/20', '12/16/20', '12/17/20',\n",
       "       '12/18/20', '12/19/20', '12/20/20', '12/21/20', '12/22/20',\n",
       "       '12/23/20', '12/24/20', '12/25/20', '12/26/20', '12/27/20',\n",
       "       '12/28/20', '12/29/20', '12/30/20', '12/31/20', '1/1/21', '1/2/21',\n",
       "       '1/3/21', '1/4/21', '1/5/21', '1/6/21', '1/7/21', '1/8/21',\n",
       "       '1/9/21', '1/10/21', '1/11/21', '1/12/21', '1/13/21', '1/14/21',\n",
       "       '1/15/21', '1/16/21', '1/17/21', '1/18/21', '1/19/21', '1/20/21',\n",
       "       '1/21/21', '1/22/21', '1/23/21', '1/24/21', '1/25/21', '1/26/21',\n",
       "       '1/27/21', '1/28/21', '1/29/21', '1/30/21', '1/31/21', '2/1/21',\n",
       "       '2/2/21', '2/3/21', '2/4/21', '2/5/21', '2/6/21', '2/7/21',\n",
       "       '2/8/21', '2/9/21', '2/10/21', '2/11/21', '2/12/21', '2/13/21',\n",
       "       '2/14/21', '2/15/21', '2/16/21', '2/17/21', '2/18/21', '2/19/21',\n",
       "       '2/20/21', '2/21/21', '2/22/21', '2/23/21', '2/24/21', '2/25/21',\n",
       "       '2/26/21', '2/27/21', '2/28/21', '3/1/21', '3/2/21', '3/3/21',\n",
       "       '3/4/21', '3/5/21', '3/6/21', '3/7/21', '3/8/21', '3/9/21',\n",
       "       '3/10/21', '3/11/21', '3/12/21', '3/13/21', '3/14/21', '3/15/21',\n",
       "       '3/16/21', '3/17/21', '3/18/21', '3/19/21', '3/20/21', '3/21/21',\n",
       "       '3/22/21', '3/23/21', '3/24/21', '3/25/21', '3/26/21', '3/27/21',\n",
       "       '3/28/21', '3/29/21', '3/30/21', '3/31/21', '4/1/21', '4/2/21',\n",
       "       '4/3/21', '4/4/21', '4/5/21', '4/6/21', '4/7/21'], dtype=object)"
      ]
     },
     "metadata": {},
     "execution_count": 2
    }
   ],
   "source": [
    "giturl_confirmed = 'https://raw.githubusercontent.com/CSSEGISandData/COVID-19/c6398b144172293cc21b9ef2f9c6f95d96e7e1ed/csse_covid_19_data/csse_covid_19_time_series/time_series_covid19_confirmed_global.csv'\n",
    "giturl_deaths = 'https://raw.githubusercontent.com/CSSEGISandData/COVID-19/master/csse_covid_19_data/csse_covid_19_time_series/time_series_covid19_deaths_global.csv'\n",
    "giturl_recovered = 'https://raw.githubusercontent.com/CSSEGISandData/COVID-19/master/csse_covid_19_data/csse_covid_19_time_series/time_series_covid19_recovered_global.csv'\n",
    "\n",
    "casestr='Confirmed'   #'Confirmed' #'Recovered', 'Deaths'\n",
    "chosen_plotmodel = 'Logistic'  #'Logistc'\n",
    "\n",
    "if casestr=='Confirmed':\n",
    "    curl = giturl_confirmed\n",
    "elif casestr=='Deaths':\n",
    "    curl = giturl_deaths\n",
    "elif casestr=='Recovered':\n",
    "    curl = giturl_recovered\n",
    "    \n",
    "corona_cases_df=pd.read_csv(curl, index_col=[0,1,2,3])\n",
    "#   use first four columns as multiindex\n",
    "corona_cases_df.columns.values"
   ]
  },
  {
   "cell_type": "markdown",
   "metadata": {
    "id": "uiQGfHSLKBYw"
   },
   "source": [
    "Format date strings using datetime"
   ]
  },
  {
   "cell_type": "code",
   "execution_count": 3,
   "metadata": {
    "colab": {
     "base_uri": "https://localhost:8080/"
    },
    "id": "J_snwj3BKDj1",
    "outputId": "00d611ce-b505-46bb-b615-7a11d6513ad0"
   },
   "outputs": [
    {
     "output_type": "execute_result",
     "data": {
      "text/plain": [
       "DatetimeIndex(['2020-01-22', '2020-01-23', '2020-01-24', '2020-01-25',\n",
       "               '2020-01-26', '2020-01-27', '2020-01-28', '2020-01-29',\n",
       "               '2020-01-30', '2020-01-31',\n",
       "               ...\n",
       "               '2021-03-29', '2021-03-30', '2021-03-31', '2021-04-01',\n",
       "               '2021-04-02', '2021-04-03', '2021-04-04', '2021-04-05',\n",
       "               '2021-04-06', '2021-04-07'],\n",
       "              dtype='datetime64[ns]', length=442, freq=None)"
      ]
     },
     "metadata": {},
     "execution_count": 3
    }
   ],
   "source": [
    "datesformatted = [datetime.strptime(da, '%m/%d/%y') \n",
    "                  for da in corona_cases_df.columns.values]\n",
    "\n",
    "daterange = pd.DatetimeIndex(datesformatted)\n",
    "daterange"
   ]
  },
  {
   "cell_type": "markdown",
   "metadata": {
    "id": "I9D53vWFoAPY"
   },
   "source": [
    "#Creating a new DataFrame of aggregated data\n",
    "Extracting wanted countries"
   ]
  },
  {
   "cell_type": "code",
   "execution_count": 4,
   "metadata": {
    "colab": {
     "base_uri": "https://localhost:8080/"
    },
    "id": "kp1iYPyoOZqV",
    "outputId": "16e185bb-0e09-409f-e05c-84a08c6604fa"
   },
   "outputs": [
    {
     "output_type": "execute_result",
     "data": {
      "text/plain": [
       "array(['China', 'France', 'Italy', 'Korea, South', 'US'], dtype='<U12')"
      ]
     },
     "metadata": {},
     "execution_count": 4
    }
   ],
   "source": [
    "country_official_list = (corona_cases_df.index.get_level_values('Country/Region').values)\n",
    "\n",
    "wanted_countries = ['China', 'Korea','Italy', 'France', 'US']\n",
    "\n",
    "countries_list = [np.unique(np.array([s for s in country_official_list if cou in s])) \n",
    "                                                 for cou in wanted_countries]\n",
    "countries_list = np.array(countries_list).flatten()\n",
    "countries_list.sort()\n",
    "countries_list"
   ]
  },
  {
   "cell_type": "code",
   "execution_count": 5,
   "metadata": {
    "colab": {
     "base_uri": "https://localhost:8080/"
    },
    "id": "jF4Knz0VoBiP",
    "outputId": "df29c6d6-21d0-4cf1-f204-6548dddb8a74"
   },
   "outputs": [
    {
     "output_type": "stream",
     "name": "stdout",
     "text": [
      "2020-01-31   NaN\n2020-02-03   NaN\n2020-02-06   NaN\n2020-02-09   NaN\n2020-02-12   NaN\n              ..\n2021-03-26   NaN\n2021-03-29   NaN\n2021-04-01   NaN\n2021-04-04   NaN\n2021-04-07   NaN\nName: Cases, Length: 145, dtype: float64\n"
     ]
    }
   ],
   "source": [
    "cases_percountry = {}\n",
    "df_dict = {}\n",
    "for country in countries_list:\n",
    "    cou = corona_cases_df.loc[pd.IndexSlice[:, country], :].sum()\n",
    "    cases_percountry[country] = cou[cou > 0]\n",
    "    datesformat = [datetime.strptime(da, '%m/%d/%y') \n",
    "                   for da in cases_percountry[country].index]\n",
    "    \n",
    "    df_dict[country] = pd.DataFrame(cases_percountry[country], \n",
    "                                    columns=['Cases'], index=datesformat)\n",
    "    df_dict[country]['DayCount'] = np.arange(1, \n",
    "                                             cases_percountry[country].shape[0]+1)\n",
    "    \n",
    "    \n",
    "print(df_dict['Italy']['Cases'][::3])  #print cases every three days"
   ]
  },
  {
   "cell_type": "markdown",
   "metadata": {
    "id": "dAmi3rRoCjKw"
   },
   "source": [
    "#Plotting the different country DataFrames\n",
    "Confirmed Coronavirus cases for the current data range"
   ]
  },
  {
   "cell_type": "code",
   "execution_count": 6,
   "metadata": {
    "colab": {
     "base_uri": "https://localhost:8080/",
     "height": 385
    },
    "id": "uU6Hf99wvUyn",
    "outputId": "add22af0-08f8-4d61-acb9-de673a7f3abf"
   },
   "outputs": [
    {
     "output_type": "stream",
     "name": "stdout",
     "text": [
      "China\nFrance\nItaly\nKorea, South\nUS\n"
     ]
    },
    {
     "output_type": "display_data",
     "data": {
      "text/plain": "<Figure size 432x288 with 1 Axes>",
      "image/svg+xml": "<?xml version=\"1.0\" encoding=\"utf-8\" standalone=\"no\"?>\r\n<!DOCTYPE svg PUBLIC \"-//W3C//DTD SVG 1.1//EN\"\r\n  \"http://www.w3.org/Graphics/SVG/1.1/DTD/svg11.dtd\">\r\n<svg height=\"282.506053pt\" version=\"1.1\" viewBox=\"0 0 396.895632 282.506053\" width=\"396.895632pt\" xmlns=\"http://www.w3.org/2000/svg\" xmlns:xlink=\"http://www.w3.org/1999/xlink\">\r\n <metadata>\r\n  <rdf:RDF xmlns:cc=\"http://creativecommons.org/ns#\" xmlns:dc=\"http://purl.org/dc/elements/1.1/\" xmlns:rdf=\"http://www.w3.org/1999/02/22-rdf-syntax-ns#\">\r\n   <cc:Work>\r\n    <dc:type rdf:resource=\"http://purl.org/dc/dcmitype/StillImage\"/>\r\n    <dc:date>2021-04-09T17:32:01.409548</dc:date>\r\n    <dc:format>image/svg+xml</dc:format>\r\n    <dc:creator>\r\n     <cc:Agent>\r\n      <dc:title>Matplotlib v3.4.1, https://matplotlib.org/</dc:title>\r\n     </cc:Agent>\r\n    </dc:creator>\r\n   </cc:Work>\r\n  </rdf:RDF>\r\n </metadata>\r\n <defs>\r\n  <style type=\"text/css\">*{stroke-linecap:butt;stroke-linejoin:round;}</style>\r\n </defs>\r\n <g id=\"figure_1\">\r\n  <g id=\"patch_1\">\r\n   <path d=\"M -0 282.506053 \r\nL 396.895632 282.506053 \r\nL 396.895632 0 \r\nL -0 0 \r\nz\r\n\" style=\"fill:none;\"/>\r\n  </g>\r\n  <g id=\"axes_1\">\r\n   <g id=\"patch_2\">\r\n    <path d=\"M 54.895632 224.64 \r\nL 389.695632 224.64 \r\nL 389.695632 7.2 \r\nL 54.895632 7.2 \r\nz\r\n\" style=\"fill:#ffffff;\"/>\r\n   </g>\r\n   <g id=\"matplotlib.axis_1\">\r\n    <g id=\"xtick_1\">\r\n     <g id=\"line2d_1\">\r\n      <defs>\r\n       <path d=\"M 0 0 \r\nL 0 3.5 \r\n\" id=\"m06413ea815\" style=\"stroke:#000000;stroke-width:0.8;\"/>\r\n      </defs>\r\n      <g>\r\n       <use style=\"stroke:#000000;stroke-width:0.8;\" x=\"85.868319\" xlink:href=\"#m06413ea815\" y=\"224.64\"/>\r\n      </g>\r\n     </g>\r\n     <g id=\"text_1\">\r\n      <!-- 2020-03 -->\r\n      <g transform=\"translate(70.48278 273.54138)rotate(-45)scale(0.12 -0.12)\">\r\n       <defs>\r\n        <path d=\"M 1228 531 \r\nL 3431 531 \r\nL 3431 0 \r\nL 469 0 \r\nL 469 531 \r\nQ 828 903 1448 1529 \r\nQ 2069 2156 2228 2338 \r\nQ 2531 2678 2651 2914 \r\nQ 2772 3150 2772 3378 \r\nQ 2772 3750 2511 3984 \r\nQ 2250 4219 1831 4219 \r\nQ 1534 4219 1204 4116 \r\nQ 875 4013 500 3803 \r\nL 500 4441 \r\nQ 881 4594 1212 4672 \r\nQ 1544 4750 1819 4750 \r\nQ 2544 4750 2975 4387 \r\nQ 3406 4025 3406 3419 \r\nQ 3406 3131 3298 2873 \r\nQ 3191 2616 2906 2266 \r\nQ 2828 2175 2409 1742 \r\nQ 1991 1309 1228 531 \r\nz\r\n\" id=\"DejaVuSans-32\" transform=\"scale(0.015625)\"/>\r\n        <path d=\"M 2034 4250 \r\nQ 1547 4250 1301 3770 \r\nQ 1056 3291 1056 2328 \r\nQ 1056 1369 1301 889 \r\nQ 1547 409 2034 409 \r\nQ 2525 409 2770 889 \r\nQ 3016 1369 3016 2328 \r\nQ 3016 3291 2770 3770 \r\nQ 2525 4250 2034 4250 \r\nz\r\nM 2034 4750 \r\nQ 2819 4750 3233 4129 \r\nQ 3647 3509 3647 2328 \r\nQ 3647 1150 3233 529 \r\nQ 2819 -91 2034 -91 \r\nQ 1250 -91 836 529 \r\nQ 422 1150 422 2328 \r\nQ 422 3509 836 4129 \r\nQ 1250 4750 2034 4750 \r\nz\r\n\" id=\"DejaVuSans-30\" transform=\"scale(0.015625)\"/>\r\n        <path d=\"M 313 2009 \r\nL 1997 2009 \r\nL 1997 1497 \r\nL 313 1497 \r\nL 313 2009 \r\nz\r\n\" id=\"DejaVuSans-2d\" transform=\"scale(0.015625)\"/>\r\n        <path d=\"M 2597 2516 \r\nQ 3050 2419 3304 2112 \r\nQ 3559 1806 3559 1356 \r\nQ 3559 666 3084 287 \r\nQ 2609 -91 1734 -91 \r\nQ 1441 -91 1130 -33 \r\nQ 819 25 488 141 \r\nL 488 750 \r\nQ 750 597 1062 519 \r\nQ 1375 441 1716 441 \r\nQ 2309 441 2620 675 \r\nQ 2931 909 2931 1356 \r\nQ 2931 1769 2642 2001 \r\nQ 2353 2234 1838 2234 \r\nL 1294 2234 \r\nL 1294 2753 \r\nL 1863 2753 \r\nQ 2328 2753 2575 2939 \r\nQ 2822 3125 2822 3475 \r\nQ 2822 3834 2567 4026 \r\nQ 2313 4219 1838 4219 \r\nQ 1578 4219 1281 4162 \r\nQ 984 4106 628 3988 \r\nL 628 4550 \r\nQ 988 4650 1302 4700 \r\nQ 1616 4750 1894 4750 \r\nQ 2613 4750 3031 4423 \r\nQ 3450 4097 3450 3541 \r\nQ 3450 3153 3228 2886 \r\nQ 3006 2619 2597 2516 \r\nz\r\n\" id=\"DejaVuSans-33\" transform=\"scale(0.015625)\"/>\r\n       </defs>\r\n       <use xlink:href=\"#DejaVuSans-32\"/>\r\n       <use x=\"63.623047\" xlink:href=\"#DejaVuSans-30\"/>\r\n       <use x=\"127.246094\" xlink:href=\"#DejaVuSans-32\"/>\r\n       <use x=\"190.869141\" xlink:href=\"#DejaVuSans-30\"/>\r\n       <use x=\"254.492188\" xlink:href=\"#DejaVuSans-2d\"/>\r\n       <use x=\"290.576172\" xlink:href=\"#DejaVuSans-30\"/>\r\n       <use x=\"354.199219\" xlink:href=\"#DejaVuSans-33\"/>\r\n      </g>\r\n     </g>\r\n    </g>\r\n    <g id=\"xtick_2\">\r\n     <g id=\"line2d_2\">\r\n      <g>\r\n       <use style=\"stroke:#000000;stroke-width:0.8;\" x=\"130.85246\" xlink:href=\"#m06413ea815\" y=\"224.64\"/>\r\n      </g>\r\n     </g>\r\n     <g id=\"text_2\">\r\n      <!-- 2020-05 -->\r\n      <g transform=\"translate(115.466921 273.54138)rotate(-45)scale(0.12 -0.12)\">\r\n       <defs>\r\n        <path d=\"M 691 4666 \r\nL 3169 4666 \r\nL 3169 4134 \r\nL 1269 4134 \r\nL 1269 2991 \r\nQ 1406 3038 1543 3061 \r\nQ 1681 3084 1819 3084 \r\nQ 2600 3084 3056 2656 \r\nQ 3513 2228 3513 1497 \r\nQ 3513 744 3044 326 \r\nQ 2575 -91 1722 -91 \r\nQ 1428 -91 1123 -41 \r\nQ 819 9 494 109 \r\nL 494 744 \r\nQ 775 591 1075 516 \r\nQ 1375 441 1709 441 \r\nQ 2250 441 2565 725 \r\nQ 2881 1009 2881 1497 \r\nQ 2881 1984 2565 2268 \r\nQ 2250 2553 1709 2553 \r\nQ 1456 2553 1204 2497 \r\nQ 953 2441 691 2322 \r\nL 691 4666 \r\nz\r\n\" id=\"DejaVuSans-35\" transform=\"scale(0.015625)\"/>\r\n       </defs>\r\n       <use xlink:href=\"#DejaVuSans-32\"/>\r\n       <use x=\"63.623047\" xlink:href=\"#DejaVuSans-30\"/>\r\n       <use x=\"127.246094\" xlink:href=\"#DejaVuSans-32\"/>\r\n       <use x=\"190.869141\" xlink:href=\"#DejaVuSans-30\"/>\r\n       <use x=\"254.492188\" xlink:href=\"#DejaVuSans-2d\"/>\r\n       <use x=\"290.576172\" xlink:href=\"#DejaVuSans-30\"/>\r\n       <use x=\"354.199219\" xlink:href=\"#DejaVuSans-35\"/>\r\n      </g>\r\n     </g>\r\n    </g>\r\n    <g id=\"xtick_3\">\r\n     <g id=\"line2d_3\">\r\n      <g>\r\n       <use style=\"stroke:#000000;stroke-width:0.8;\" x=\"175.836601\" xlink:href=\"#m06413ea815\" y=\"224.64\"/>\r\n      </g>\r\n     </g>\r\n     <g id=\"text_3\">\r\n      <!-- 2020-07 -->\r\n      <g transform=\"translate(160.451062 273.54138)rotate(-45)scale(0.12 -0.12)\">\r\n       <defs>\r\n        <path d=\"M 525 4666 \r\nL 3525 4666 \r\nL 3525 4397 \r\nL 1831 0 \r\nL 1172 0 \r\nL 2766 4134 \r\nL 525 4134 \r\nL 525 4666 \r\nz\r\n\" id=\"DejaVuSans-37\" transform=\"scale(0.015625)\"/>\r\n       </defs>\r\n       <use xlink:href=\"#DejaVuSans-32\"/>\r\n       <use x=\"63.623047\" xlink:href=\"#DejaVuSans-30\"/>\r\n       <use x=\"127.246094\" xlink:href=\"#DejaVuSans-32\"/>\r\n       <use x=\"190.869141\" xlink:href=\"#DejaVuSans-30\"/>\r\n       <use x=\"254.492188\" xlink:href=\"#DejaVuSans-2d\"/>\r\n       <use x=\"290.576172\" xlink:href=\"#DejaVuSans-30\"/>\r\n       <use x=\"354.199219\" xlink:href=\"#DejaVuSans-37\"/>\r\n      </g>\r\n     </g>\r\n    </g>\r\n    <g id=\"xtick_4\">\r\n     <g id=\"line2d_4\">\r\n      <g>\r\n       <use style=\"stroke:#000000;stroke-width:0.8;\" x=\"221.558187\" xlink:href=\"#m06413ea815\" y=\"224.64\"/>\r\n      </g>\r\n     </g>\r\n     <g id=\"text_4\">\r\n      <!-- 2020-09 -->\r\n      <g transform=\"translate(206.172648 273.54138)rotate(-45)scale(0.12 -0.12)\">\r\n       <defs>\r\n        <path d=\"M 703 97 \r\nL 703 672 \r\nQ 941 559 1184 500 \r\nQ 1428 441 1663 441 \r\nQ 2288 441 2617 861 \r\nQ 2947 1281 2994 2138 \r\nQ 2813 1869 2534 1725 \r\nQ 2256 1581 1919 1581 \r\nQ 1219 1581 811 2004 \r\nQ 403 2428 403 3163 \r\nQ 403 3881 828 4315 \r\nQ 1253 4750 1959 4750 \r\nQ 2769 4750 3195 4129 \r\nQ 3622 3509 3622 2328 \r\nQ 3622 1225 3098 567 \r\nQ 2575 -91 1691 -91 \r\nQ 1453 -91 1209 -44 \r\nQ 966 3 703 97 \r\nz\r\nM 1959 2075 \r\nQ 2384 2075 2632 2365 \r\nQ 2881 2656 2881 3163 \r\nQ 2881 3666 2632 3958 \r\nQ 2384 4250 1959 4250 \r\nQ 1534 4250 1286 3958 \r\nQ 1038 3666 1038 3163 \r\nQ 1038 2656 1286 2365 \r\nQ 1534 2075 1959 2075 \r\nz\r\n\" id=\"DejaVuSans-39\" transform=\"scale(0.015625)\"/>\r\n       </defs>\r\n       <use xlink:href=\"#DejaVuSans-32\"/>\r\n       <use x=\"63.623047\" xlink:href=\"#DejaVuSans-30\"/>\r\n       <use x=\"127.246094\" xlink:href=\"#DejaVuSans-32\"/>\r\n       <use x=\"190.869141\" xlink:href=\"#DejaVuSans-30\"/>\r\n       <use x=\"254.492188\" xlink:href=\"#DejaVuSans-2d\"/>\r\n       <use x=\"290.576172\" xlink:href=\"#DejaVuSans-30\"/>\r\n       <use x=\"354.199219\" xlink:href=\"#DejaVuSans-39\"/>\r\n      </g>\r\n     </g>\r\n    </g>\r\n    <g id=\"xtick_5\">\r\n     <g id=\"line2d_5\">\r\n      <g>\r\n       <use style=\"stroke:#000000;stroke-width:0.8;\" x=\"266.542328\" xlink:href=\"#m06413ea815\" y=\"224.64\"/>\r\n      </g>\r\n     </g>\r\n     <g id=\"text_5\">\r\n      <!-- 2020-11 -->\r\n      <g transform=\"translate(251.156789 273.54138)rotate(-45)scale(0.12 -0.12)\">\r\n       <defs>\r\n        <path d=\"M 794 531 \r\nL 1825 531 \r\nL 1825 4091 \r\nL 703 3866 \r\nL 703 4441 \r\nL 1819 4666 \r\nL 2450 4666 \r\nL 2450 531 \r\nL 3481 531 \r\nL 3481 0 \r\nL 794 0 \r\nL 794 531 \r\nz\r\n\" id=\"DejaVuSans-31\" transform=\"scale(0.015625)\"/>\r\n       </defs>\r\n       <use xlink:href=\"#DejaVuSans-32\"/>\r\n       <use x=\"63.623047\" xlink:href=\"#DejaVuSans-30\"/>\r\n       <use x=\"127.246094\" xlink:href=\"#DejaVuSans-32\"/>\r\n       <use x=\"190.869141\" xlink:href=\"#DejaVuSans-30\"/>\r\n       <use x=\"254.492188\" xlink:href=\"#DejaVuSans-2d\"/>\r\n       <use x=\"290.576172\" xlink:href=\"#DejaVuSans-31\"/>\r\n       <use x=\"354.199219\" xlink:href=\"#DejaVuSans-31\"/>\r\n      </g>\r\n     </g>\r\n    </g>\r\n    <g id=\"xtick_6\">\r\n     <g id=\"line2d_6\">\r\n      <g>\r\n       <use style=\"stroke:#000000;stroke-width:0.8;\" x=\"311.526469\" xlink:href=\"#m06413ea815\" y=\"224.64\"/>\r\n      </g>\r\n     </g>\r\n     <g id=\"text_6\">\r\n      <!-- 2021-01 -->\r\n      <g transform=\"translate(296.14093 273.54138)rotate(-45)scale(0.12 -0.12)\">\r\n       <use xlink:href=\"#DejaVuSans-32\"/>\r\n       <use x=\"63.623047\" xlink:href=\"#DejaVuSans-30\"/>\r\n       <use x=\"127.246094\" xlink:href=\"#DejaVuSans-32\"/>\r\n       <use x=\"190.869141\" xlink:href=\"#DejaVuSans-31\"/>\r\n       <use x=\"254.492188\" xlink:href=\"#DejaVuSans-2d\"/>\r\n       <use x=\"290.576172\" xlink:href=\"#DejaVuSans-30\"/>\r\n       <use x=\"354.199219\" xlink:href=\"#DejaVuSans-31\"/>\r\n      </g>\r\n     </g>\r\n    </g>\r\n    <g id=\"xtick_7\">\r\n     <g id=\"line2d_7\">\r\n      <g>\r\n       <use style=\"stroke:#000000;stroke-width:0.8;\" x=\"355.03572\" xlink:href=\"#m06413ea815\" y=\"224.64\"/>\r\n      </g>\r\n     </g>\r\n     <g id=\"text_7\">\r\n      <!-- 2021-03 -->\r\n      <g transform=\"translate(339.650181 273.54138)rotate(-45)scale(0.12 -0.12)\">\r\n       <use xlink:href=\"#DejaVuSans-32\"/>\r\n       <use x=\"63.623047\" xlink:href=\"#DejaVuSans-30\"/>\r\n       <use x=\"127.246094\" xlink:href=\"#DejaVuSans-32\"/>\r\n       <use x=\"190.869141\" xlink:href=\"#DejaVuSans-31\"/>\r\n       <use x=\"254.492188\" xlink:href=\"#DejaVuSans-2d\"/>\r\n       <use x=\"290.576172\" xlink:href=\"#DejaVuSans-30\"/>\r\n       <use x=\"354.199219\" xlink:href=\"#DejaVuSans-33\"/>\r\n      </g>\r\n     </g>\r\n    </g>\r\n   </g>\r\n   <g id=\"matplotlib.axis_2\">\r\n    <g id=\"ytick_1\">\r\n     <g id=\"line2d_8\">\r\n      <defs>\r\n       <path d=\"M 0 0 \r\nL -3.5 0 \r\n\" id=\"m798e286bcd\" style=\"stroke:#000000;stroke-width:0.8;\"/>\r\n      </defs>\r\n      <g>\r\n       <use style=\"stroke:#000000;stroke-width:0.8;\" x=\"54.895632\" xlink:href=\"#m798e286bcd\" y=\"214.756364\"/>\r\n      </g>\r\n     </g>\r\n     <g id=\"text_8\">\r\n      <!-- $\\mathdefault{10^{0}}$ -->\r\n      <g transform=\"translate(31.196863 231.578884)rotate(-45)scale(0.12 -0.12)\">\r\n       <use transform=\"translate(0 0.765625)\" xlink:href=\"#DejaVuSans-31\"/>\r\n       <use transform=\"translate(63.623047 0.765625)\" xlink:href=\"#DejaVuSans-30\"/>\r\n       <use transform=\"translate(128.203125 39.046875)scale(0.7)\" xlink:href=\"#DejaVuSans-30\"/>\r\n      </g>\r\n     </g>\r\n    </g>\r\n    <g id=\"ytick_2\">\r\n     <g id=\"line2d_9\">\r\n      <g>\r\n       <use style=\"stroke:#000000;stroke-width:0.8;\" x=\"54.895632\" xlink:href=\"#m798e286bcd\" y=\"17.083636\"/>\r\n      </g>\r\n     </g>\r\n     <g id=\"text_9\">\r\n      <!-- $\\mathdefault{10^{1}}$ -->\r\n      <g transform=\"translate(31.196863 33.906157)rotate(-45)scale(0.12 -0.12)\">\r\n       <use transform=\"translate(0 0.684375)\" xlink:href=\"#DejaVuSans-31\"/>\r\n       <use transform=\"translate(63.623047 0.684375)\" xlink:href=\"#DejaVuSans-30\"/>\r\n       <use transform=\"translate(128.203125 38.965625)scale(0.7)\" xlink:href=\"#DejaVuSans-31\"/>\r\n      </g>\r\n     </g>\r\n    </g>\r\n    <g id=\"ytick_3\">\r\n     <g id=\"line2d_10\">\r\n      <defs>\r\n       <path d=\"M 0 0 \r\nL -2 0 \r\n\" id=\"m0ad55d3307\" style=\"stroke:#000000;stroke-width:0.6;\"/>\r\n      </defs>\r\n      <g>\r\n       <use style=\"stroke:#000000;stroke-width:0.6;\" x=\"54.895632\" xlink:href=\"#m0ad55d3307\" y=\"223.801372\"/>\r\n      </g>\r\n     </g>\r\n    </g>\r\n    <g id=\"ytick_4\">\r\n     <g id=\"line2d_11\">\r\n      <g>\r\n       <use style=\"stroke:#000000;stroke-width:0.6;\" x=\"54.895632\" xlink:href=\"#m0ad55d3307\" y=\"155.250943\"/>\r\n      </g>\r\n     </g>\r\n    </g>\r\n    <g id=\"ytick_5\">\r\n     <g id=\"line2d_12\">\r\n      <g>\r\n       <use style=\"stroke:#000000;stroke-width:0.6;\" x=\"54.895632\" xlink:href=\"#m0ad55d3307\" y=\"120.442504\"/>\r\n      </g>\r\n     </g>\r\n    </g>\r\n    <g id=\"ytick_6\">\r\n     <g id=\"line2d_13\">\r\n      <g>\r\n       <use style=\"stroke:#000000;stroke-width:0.6;\" x=\"54.895632\" xlink:href=\"#m0ad55d3307\" y=\"95.745523\"/>\r\n      </g>\r\n     </g>\r\n    </g>\r\n    <g id=\"ytick_7\">\r\n     <g id=\"line2d_14\">\r\n      <g>\r\n       <use style=\"stroke:#000000;stroke-width:0.6;\" x=\"54.895632\" xlink:href=\"#m0ad55d3307\" y=\"76.589057\"/>\r\n      </g>\r\n     </g>\r\n    </g>\r\n    <g id=\"ytick_8\">\r\n     <g id=\"line2d_15\">\r\n      <g>\r\n       <use style=\"stroke:#000000;stroke-width:0.6;\" x=\"54.895632\" xlink:href=\"#m0ad55d3307\" y=\"60.937084\"/>\r\n      </g>\r\n     </g>\r\n    </g>\r\n    <g id=\"ytick_9\">\r\n     <g id=\"line2d_16\">\r\n      <g>\r\n       <use style=\"stroke:#000000;stroke-width:0.6;\" x=\"54.895632\" xlink:href=\"#m0ad55d3307\" y=\"47.703529\"/>\r\n      </g>\r\n     </g>\r\n    </g>\r\n    <g id=\"ytick_10\">\r\n     <g id=\"line2d_17\">\r\n      <g>\r\n       <use style=\"stroke:#000000;stroke-width:0.6;\" x=\"54.895632\" xlink:href=\"#m0ad55d3307\" y=\"36.240103\"/>\r\n      </g>\r\n     </g>\r\n    </g>\r\n    <g id=\"ytick_11\">\r\n     <g id=\"line2d_18\">\r\n      <g>\r\n       <use style=\"stroke:#000000;stroke-width:0.6;\" x=\"54.895632\" xlink:href=\"#m0ad55d3307\" y=\"26.128644\"/>\r\n      </g>\r\n     </g>\r\n    </g>\r\n    <g id=\"text_10\">\r\n     <!-- Confirmed -->\r\n     <g transform=\"translate(17.837812 152.260937)rotate(-90)scale(0.14 -0.14)\">\r\n      <defs>\r\n       <path d=\"M 4122 4306 \r\nL 4122 3641 \r\nQ 3803 3938 3442 4084 \r\nQ 3081 4231 2675 4231 \r\nQ 1875 4231 1450 3742 \r\nQ 1025 3253 1025 2328 \r\nQ 1025 1406 1450 917 \r\nQ 1875 428 2675 428 \r\nQ 3081 428 3442 575 \r\nQ 3803 722 4122 1019 \r\nL 4122 359 \r\nQ 3791 134 3420 21 \r\nQ 3050 -91 2638 -91 \r\nQ 1578 -91 968 557 \r\nQ 359 1206 359 2328 \r\nQ 359 3453 968 4101 \r\nQ 1578 4750 2638 4750 \r\nQ 3056 4750 3426 4639 \r\nQ 3797 4528 4122 4306 \r\nz\r\n\" id=\"DejaVuSans-43\" transform=\"scale(0.015625)\"/>\r\n       <path d=\"M 1959 3097 \r\nQ 1497 3097 1228 2736 \r\nQ 959 2375 959 1747 \r\nQ 959 1119 1226 758 \r\nQ 1494 397 1959 397 \r\nQ 2419 397 2687 759 \r\nQ 2956 1122 2956 1747 \r\nQ 2956 2369 2687 2733 \r\nQ 2419 3097 1959 3097 \r\nz\r\nM 1959 3584 \r\nQ 2709 3584 3137 3096 \r\nQ 3566 2609 3566 1747 \r\nQ 3566 888 3137 398 \r\nQ 2709 -91 1959 -91 \r\nQ 1206 -91 779 398 \r\nQ 353 888 353 1747 \r\nQ 353 2609 779 3096 \r\nQ 1206 3584 1959 3584 \r\nz\r\n\" id=\"DejaVuSans-6f\" transform=\"scale(0.015625)\"/>\r\n       <path d=\"M 3513 2113 \r\nL 3513 0 \r\nL 2938 0 \r\nL 2938 2094 \r\nQ 2938 2591 2744 2837 \r\nQ 2550 3084 2163 3084 \r\nQ 1697 3084 1428 2787 \r\nQ 1159 2491 1159 1978 \r\nL 1159 0 \r\nL 581 0 \r\nL 581 3500 \r\nL 1159 3500 \r\nL 1159 2956 \r\nQ 1366 3272 1645 3428 \r\nQ 1925 3584 2291 3584 \r\nQ 2894 3584 3203 3211 \r\nQ 3513 2838 3513 2113 \r\nz\r\n\" id=\"DejaVuSans-6e\" transform=\"scale(0.015625)\"/>\r\n       <path d=\"M 2375 4863 \r\nL 2375 4384 \r\nL 1825 4384 \r\nQ 1516 4384 1395 4259 \r\nQ 1275 4134 1275 3809 \r\nL 1275 3500 \r\nL 2222 3500 \r\nL 2222 3053 \r\nL 1275 3053 \r\nL 1275 0 \r\nL 697 0 \r\nL 697 3053 \r\nL 147 3053 \r\nL 147 3500 \r\nL 697 3500 \r\nL 697 3744 \r\nQ 697 4328 969 4595 \r\nQ 1241 4863 1831 4863 \r\nL 2375 4863 \r\nz\r\n\" id=\"DejaVuSans-66\" transform=\"scale(0.015625)\"/>\r\n       <path d=\"M 603 3500 \r\nL 1178 3500 \r\nL 1178 0 \r\nL 603 0 \r\nL 603 3500 \r\nz\r\nM 603 4863 \r\nL 1178 4863 \r\nL 1178 4134 \r\nL 603 4134 \r\nL 603 4863 \r\nz\r\n\" id=\"DejaVuSans-69\" transform=\"scale(0.015625)\"/>\r\n       <path d=\"M 2631 2963 \r\nQ 2534 3019 2420 3045 \r\nQ 2306 3072 2169 3072 \r\nQ 1681 3072 1420 2755 \r\nQ 1159 2438 1159 1844 \r\nL 1159 0 \r\nL 581 0 \r\nL 581 3500 \r\nL 1159 3500 \r\nL 1159 2956 \r\nQ 1341 3275 1631 3429 \r\nQ 1922 3584 2338 3584 \r\nQ 2397 3584 2469 3576 \r\nQ 2541 3569 2628 3553 \r\nL 2631 2963 \r\nz\r\n\" id=\"DejaVuSans-72\" transform=\"scale(0.015625)\"/>\r\n       <path d=\"M 3328 2828 \r\nQ 3544 3216 3844 3400 \r\nQ 4144 3584 4550 3584 \r\nQ 5097 3584 5394 3201 \r\nQ 5691 2819 5691 2113 \r\nL 5691 0 \r\nL 5113 0 \r\nL 5113 2094 \r\nQ 5113 2597 4934 2840 \r\nQ 4756 3084 4391 3084 \r\nQ 3944 3084 3684 2787 \r\nQ 3425 2491 3425 1978 \r\nL 3425 0 \r\nL 2847 0 \r\nL 2847 2094 \r\nQ 2847 2600 2669 2842 \r\nQ 2491 3084 2119 3084 \r\nQ 1678 3084 1418 2786 \r\nQ 1159 2488 1159 1978 \r\nL 1159 0 \r\nL 581 0 \r\nL 581 3500 \r\nL 1159 3500 \r\nL 1159 2956 \r\nQ 1356 3278 1631 3431 \r\nQ 1906 3584 2284 3584 \r\nQ 2666 3584 2933 3390 \r\nQ 3200 3197 3328 2828 \r\nz\r\n\" id=\"DejaVuSans-6d\" transform=\"scale(0.015625)\"/>\r\n       <path d=\"M 3597 1894 \r\nL 3597 1613 \r\nL 953 1613 \r\nQ 991 1019 1311 708 \r\nQ 1631 397 2203 397 \r\nQ 2534 397 2845 478 \r\nQ 3156 559 3463 722 \r\nL 3463 178 \r\nQ 3153 47 2828 -22 \r\nQ 2503 -91 2169 -91 \r\nQ 1331 -91 842 396 \r\nQ 353 884 353 1716 \r\nQ 353 2575 817 3079 \r\nQ 1281 3584 2069 3584 \r\nQ 2775 3584 3186 3129 \r\nQ 3597 2675 3597 1894 \r\nz\r\nM 3022 2063 \r\nQ 3016 2534 2758 2815 \r\nQ 2500 3097 2075 3097 \r\nQ 1594 3097 1305 2825 \r\nQ 1016 2553 972 2059 \r\nL 3022 2063 \r\nz\r\n\" id=\"DejaVuSans-65\" transform=\"scale(0.015625)\"/>\r\n       <path d=\"M 2906 2969 \r\nL 2906 4863 \r\nL 3481 4863 \r\nL 3481 0 \r\nL 2906 0 \r\nL 2906 525 \r\nQ 2725 213 2448 61 \r\nQ 2172 -91 1784 -91 \r\nQ 1150 -91 751 415 \r\nQ 353 922 353 1747 \r\nQ 353 2572 751 3078 \r\nQ 1150 3584 1784 3584 \r\nQ 2172 3584 2448 3432 \r\nQ 2725 3281 2906 2969 \r\nz\r\nM 947 1747 \r\nQ 947 1113 1208 752 \r\nQ 1469 391 1925 391 \r\nQ 2381 391 2643 752 \r\nQ 2906 1113 2906 1747 \r\nQ 2906 2381 2643 2742 \r\nQ 2381 3103 1925 3103 \r\nQ 1469 3103 1208 2742 \r\nQ 947 2381 947 1747 \r\nz\r\n\" id=\"DejaVuSans-64\" transform=\"scale(0.015625)\"/>\r\n      </defs>\r\n      <use xlink:href=\"#DejaVuSans-43\"/>\r\n      <use x=\"69.824219\" xlink:href=\"#DejaVuSans-6f\"/>\r\n      <use x=\"131.005859\" xlink:href=\"#DejaVuSans-6e\"/>\r\n      <use x=\"194.384766\" xlink:href=\"#DejaVuSans-66\"/>\r\n      <use x=\"229.589844\" xlink:href=\"#DejaVuSans-69\"/>\r\n      <use x=\"257.373047\" xlink:href=\"#DejaVuSans-72\"/>\r\n      <use x=\"296.736328\" xlink:href=\"#DejaVuSans-6d\"/>\r\n      <use x=\"394.148438\" xlink:href=\"#DejaVuSans-65\"/>\r\n      <use x=\"455.671875\" xlink:href=\"#DejaVuSans-64\"/>\r\n     </g>\r\n    </g>\r\n   </g>\r\n   <g id=\"line2d_19\">\r\n    <path clip-path=\"url(#p1ca5f27183)\" d=\"M 0 0 \r\n\" style=\"fill:none;stroke:#1f77b4;stroke-linecap:square;stroke-width:1.5;\"/>\r\n   </g>\r\n   <g id=\"line2d_20\">\r\n    <path clip-path=\"url(#p1ca5f27183)\" d=\"M 0 0 \r\n\" style=\"fill:none;stroke:#ff7f0e;stroke-linecap:square;stroke-width:1.5;\"/>\r\n   </g>\r\n   <g id=\"line2d_21\">\r\n    <path clip-path=\"url(#p1ca5f27183)\" d=\"M 0 0 \r\n\" style=\"fill:none;stroke:#2ca02c;stroke-linecap:square;stroke-width:1.5;\"/>\r\n   </g>\r\n   <g id=\"line2d_22\">\r\n    <path clip-path=\"url(#p1ca5f27183)\" d=\"M 0 0 \r\n\" style=\"fill:none;stroke:#d62728;stroke-linecap:square;stroke-width:1.5;\"/>\r\n   </g>\r\n   <g id=\"line2d_23\">\r\n    <path clip-path=\"url(#p1ca5f27183)\" d=\"M 0 0 \r\n\" style=\"fill:none;stroke:#9467bd;stroke-linecap:square;stroke-width:1.5;\"/>\r\n   </g>\r\n   <g id=\"patch_3\">\r\n    <path d=\"M 54.895632 224.64 \r\nL 54.895632 7.2 \r\n\" style=\"fill:none;stroke:#000000;stroke-linecap:square;stroke-linejoin:miter;stroke-width:0.8;\"/>\r\n   </g>\r\n   <g id=\"patch_4\">\r\n    <path d=\"M 389.695632 224.64 \r\nL 389.695632 7.2 \r\n\" style=\"fill:none;stroke:#000000;stroke-linecap:square;stroke-linejoin:miter;stroke-width:0.8;\"/>\r\n   </g>\r\n   <g id=\"patch_5\">\r\n    <path d=\"M 54.895632 224.64 \r\nL 389.695632 224.64 \r\n\" style=\"fill:none;stroke:#000000;stroke-linecap:square;stroke-linejoin:miter;stroke-width:0.8;\"/>\r\n   </g>\r\n   <g id=\"patch_6\">\r\n    <path d=\"M 54.895632 7.2 \r\nL 389.695632 7.2 \r\n\" style=\"fill:none;stroke:#000000;stroke-linecap:square;stroke-linejoin:miter;stroke-width:0.8;\"/>\r\n   </g>\r\n   <g id=\"legend_1\">\r\n    <g id=\"patch_7\">\r\n     <path d=\"M 286.933132 219.64 \r\nL 382.695632 219.64 \r\nQ 384.695632 219.64 384.695632 217.64 \r\nL 384.695632 145.249375 \r\nQ 384.695632 143.249375 382.695632 143.249375 \r\nL 286.933132 143.249375 \r\nQ 284.933132 143.249375 284.933132 145.249375 \r\nL 284.933132 217.64 \r\nQ 284.933132 219.64 286.933132 219.64 \r\nz\r\n\" style=\"fill:#ffffff;opacity:0.8;stroke:#cccccc;stroke-linejoin:miter;\"/>\r\n    </g>\r\n    <g id=\"line2d_24\">\r\n     <path d=\"M 288.933132 151.347812 \r\nL 308.933132 151.347812 \r\n\" style=\"fill:none;stroke:#1f77b4;stroke-linecap:square;stroke-width:1.5;\"/>\r\n    </g>\r\n    <g id=\"line2d_25\"/>\r\n    <g id=\"text_11\">\r\n     <!-- China -->\r\n     <g transform=\"translate(316.933132 154.847812)scale(0.1 -0.1)\">\r\n      <defs>\r\n       <path d=\"M 3513 2113 \r\nL 3513 0 \r\nL 2938 0 \r\nL 2938 2094 \r\nQ 2938 2591 2744 2837 \r\nQ 2550 3084 2163 3084 \r\nQ 1697 3084 1428 2787 \r\nQ 1159 2491 1159 1978 \r\nL 1159 0 \r\nL 581 0 \r\nL 581 4863 \r\nL 1159 4863 \r\nL 1159 2956 \r\nQ 1366 3272 1645 3428 \r\nQ 1925 3584 2291 3584 \r\nQ 2894 3584 3203 3211 \r\nQ 3513 2838 3513 2113 \r\nz\r\n\" id=\"DejaVuSans-68\" transform=\"scale(0.015625)\"/>\r\n       <path d=\"M 2194 1759 \r\nQ 1497 1759 1228 1600 \r\nQ 959 1441 959 1056 \r\nQ 959 750 1161 570 \r\nQ 1363 391 1709 391 \r\nQ 2188 391 2477 730 \r\nQ 2766 1069 2766 1631 \r\nL 2766 1759 \r\nL 2194 1759 \r\nz\r\nM 3341 1997 \r\nL 3341 0 \r\nL 2766 0 \r\nL 2766 531 \r\nQ 2569 213 2275 61 \r\nQ 1981 -91 1556 -91 \r\nQ 1019 -91 701 211 \r\nQ 384 513 384 1019 \r\nQ 384 1609 779 1909 \r\nQ 1175 2209 1959 2209 \r\nL 2766 2209 \r\nL 2766 2266 \r\nQ 2766 2663 2505 2880 \r\nQ 2244 3097 1772 3097 \r\nQ 1472 3097 1187 3025 \r\nQ 903 2953 641 2809 \r\nL 641 3341 \r\nQ 956 3463 1253 3523 \r\nQ 1550 3584 1831 3584 \r\nQ 2591 3584 2966 3190 \r\nQ 3341 2797 3341 1997 \r\nz\r\n\" id=\"DejaVuSans-61\" transform=\"scale(0.015625)\"/>\r\n      </defs>\r\n      <use xlink:href=\"#DejaVuSans-43\"/>\r\n      <use x=\"69.824219\" xlink:href=\"#DejaVuSans-68\"/>\r\n      <use x=\"133.203125\" xlink:href=\"#DejaVuSans-69\"/>\r\n      <use x=\"160.986328\" xlink:href=\"#DejaVuSans-6e\"/>\r\n      <use x=\"224.365234\" xlink:href=\"#DejaVuSans-61\"/>\r\n     </g>\r\n    </g>\r\n    <g id=\"line2d_26\">\r\n     <path d=\"M 288.933132 166.025937 \r\nL 308.933132 166.025937 \r\n\" style=\"fill:none;stroke:#ff7f0e;stroke-linecap:square;stroke-width:1.5;\"/>\r\n    </g>\r\n    <g id=\"line2d_27\"/>\r\n    <g id=\"text_12\">\r\n     <!-- France -->\r\n     <g transform=\"translate(316.933132 169.525937)scale(0.1 -0.1)\">\r\n      <defs>\r\n       <path d=\"M 628 4666 \r\nL 3309 4666 \r\nL 3309 4134 \r\nL 1259 4134 \r\nL 1259 2759 \r\nL 3109 2759 \r\nL 3109 2228 \r\nL 1259 2228 \r\nL 1259 0 \r\nL 628 0 \r\nL 628 4666 \r\nz\r\n\" id=\"DejaVuSans-46\" transform=\"scale(0.015625)\"/>\r\n       <path d=\"M 3122 3366 \r\nL 3122 2828 \r\nQ 2878 2963 2633 3030 \r\nQ 2388 3097 2138 3097 \r\nQ 1578 3097 1268 2742 \r\nQ 959 2388 959 1747 \r\nQ 959 1106 1268 751 \r\nQ 1578 397 2138 397 \r\nQ 2388 397 2633 464 \r\nQ 2878 531 3122 666 \r\nL 3122 134 \r\nQ 2881 22 2623 -34 \r\nQ 2366 -91 2075 -91 \r\nQ 1284 -91 818 406 \r\nQ 353 903 353 1747 \r\nQ 353 2603 823 3093 \r\nQ 1294 3584 2113 3584 \r\nQ 2378 3584 2631 3529 \r\nQ 2884 3475 3122 3366 \r\nz\r\n\" id=\"DejaVuSans-63\" transform=\"scale(0.015625)\"/>\r\n      </defs>\r\n      <use xlink:href=\"#DejaVuSans-46\"/>\r\n      <use x=\"50.269531\" xlink:href=\"#DejaVuSans-72\"/>\r\n      <use x=\"91.382812\" xlink:href=\"#DejaVuSans-61\"/>\r\n      <use x=\"152.662109\" xlink:href=\"#DejaVuSans-6e\"/>\r\n      <use x=\"216.041016\" xlink:href=\"#DejaVuSans-63\"/>\r\n      <use x=\"271.021484\" xlink:href=\"#DejaVuSans-65\"/>\r\n     </g>\r\n    </g>\r\n    <g id=\"line2d_28\">\r\n     <path d=\"M 288.933132 180.704062 \r\nL 308.933132 180.704062 \r\n\" style=\"fill:none;stroke:#2ca02c;stroke-linecap:square;stroke-width:1.5;\"/>\r\n    </g>\r\n    <g id=\"line2d_29\"/>\r\n    <g id=\"text_13\">\r\n     <!-- Italy -->\r\n     <g transform=\"translate(316.933132 184.204062)scale(0.1 -0.1)\">\r\n      <defs>\r\n       <path d=\"M 628 4666 \r\nL 1259 4666 \r\nL 1259 0 \r\nL 628 0 \r\nL 628 4666 \r\nz\r\n\" id=\"DejaVuSans-49\" transform=\"scale(0.015625)\"/>\r\n       <path d=\"M 1172 4494 \r\nL 1172 3500 \r\nL 2356 3500 \r\nL 2356 3053 \r\nL 1172 3053 \r\nL 1172 1153 \r\nQ 1172 725 1289 603 \r\nQ 1406 481 1766 481 \r\nL 2356 481 \r\nL 2356 0 \r\nL 1766 0 \r\nQ 1100 0 847 248 \r\nQ 594 497 594 1153 \r\nL 594 3053 \r\nL 172 3053 \r\nL 172 3500 \r\nL 594 3500 \r\nL 594 4494 \r\nL 1172 4494 \r\nz\r\n\" id=\"DejaVuSans-74\" transform=\"scale(0.015625)\"/>\r\n       <path d=\"M 603 4863 \r\nL 1178 4863 \r\nL 1178 0 \r\nL 603 0 \r\nL 603 4863 \r\nz\r\n\" id=\"DejaVuSans-6c\" transform=\"scale(0.015625)\"/>\r\n       <path d=\"M 2059 -325 \r\nQ 1816 -950 1584 -1140 \r\nQ 1353 -1331 966 -1331 \r\nL 506 -1331 \r\nL 506 -850 \r\nL 844 -850 \r\nQ 1081 -850 1212 -737 \r\nQ 1344 -625 1503 -206 \r\nL 1606 56 \r\nL 191 3500 \r\nL 800 3500 \r\nL 1894 763 \r\nL 2988 3500 \r\nL 3597 3500 \r\nL 2059 -325 \r\nz\r\n\" id=\"DejaVuSans-79\" transform=\"scale(0.015625)\"/>\r\n      </defs>\r\n      <use xlink:href=\"#DejaVuSans-49\"/>\r\n      <use x=\"29.492188\" xlink:href=\"#DejaVuSans-74\"/>\r\n      <use x=\"68.701172\" xlink:href=\"#DejaVuSans-61\"/>\r\n      <use x=\"129.980469\" xlink:href=\"#DejaVuSans-6c\"/>\r\n      <use x=\"157.763672\" xlink:href=\"#DejaVuSans-79\"/>\r\n     </g>\r\n    </g>\r\n    <g id=\"line2d_30\">\r\n     <path d=\"M 288.933132 195.382187 \r\nL 308.933132 195.382187 \r\n\" style=\"fill:none;stroke:#d62728;stroke-linecap:square;stroke-width:1.5;\"/>\r\n    </g>\r\n    <g id=\"line2d_31\"/>\r\n    <g id=\"text_14\">\r\n     <!-- Korea, South -->\r\n     <g transform=\"translate(316.933132 198.882187)scale(0.1 -0.1)\">\r\n      <defs>\r\n       <path d=\"M 628 4666 \r\nL 1259 4666 \r\nL 1259 2694 \r\nL 3353 4666 \r\nL 4166 4666 \r\nL 1850 2491 \r\nL 4331 0 \r\nL 3500 0 \r\nL 1259 2247 \r\nL 1259 0 \r\nL 628 0 \r\nL 628 4666 \r\nz\r\n\" id=\"DejaVuSans-4b\" transform=\"scale(0.015625)\"/>\r\n       <path d=\"M 750 794 \r\nL 1409 794 \r\nL 1409 256 \r\nL 897 -744 \r\nL 494 -744 \r\nL 750 256 \r\nL 750 794 \r\nz\r\n\" id=\"DejaVuSans-2c\" transform=\"scale(0.015625)\"/>\r\n       <path id=\"DejaVuSans-20\" transform=\"scale(0.015625)\"/>\r\n       <path d=\"M 3425 4513 \r\nL 3425 3897 \r\nQ 3066 4069 2747 4153 \r\nQ 2428 4238 2131 4238 \r\nQ 1616 4238 1336 4038 \r\nQ 1056 3838 1056 3469 \r\nQ 1056 3159 1242 3001 \r\nQ 1428 2844 1947 2747 \r\nL 2328 2669 \r\nQ 3034 2534 3370 2195 \r\nQ 3706 1856 3706 1288 \r\nQ 3706 609 3251 259 \r\nQ 2797 -91 1919 -91 \r\nQ 1588 -91 1214 -16 \r\nQ 841 59 441 206 \r\nL 441 856 \r\nQ 825 641 1194 531 \r\nQ 1563 422 1919 422 \r\nQ 2459 422 2753 634 \r\nQ 3047 847 3047 1241 \r\nQ 3047 1584 2836 1778 \r\nQ 2625 1972 2144 2069 \r\nL 1759 2144 \r\nQ 1053 2284 737 2584 \r\nQ 422 2884 422 3419 \r\nQ 422 4038 858 4394 \r\nQ 1294 4750 2059 4750 \r\nQ 2388 4750 2728 4690 \r\nQ 3069 4631 3425 4513 \r\nz\r\n\" id=\"DejaVuSans-53\" transform=\"scale(0.015625)\"/>\r\n       <path d=\"M 544 1381 \r\nL 544 3500 \r\nL 1119 3500 \r\nL 1119 1403 \r\nQ 1119 906 1312 657 \r\nQ 1506 409 1894 409 \r\nQ 2359 409 2629 706 \r\nQ 2900 1003 2900 1516 \r\nL 2900 3500 \r\nL 3475 3500 \r\nL 3475 0 \r\nL 2900 0 \r\nL 2900 538 \r\nQ 2691 219 2414 64 \r\nQ 2138 -91 1772 -91 \r\nQ 1169 -91 856 284 \r\nQ 544 659 544 1381 \r\nz\r\nM 1991 3584 \r\nL 1991 3584 \r\nz\r\n\" id=\"DejaVuSans-75\" transform=\"scale(0.015625)\"/>\r\n      </defs>\r\n      <use xlink:href=\"#DejaVuSans-4b\"/>\r\n      <use x=\"60.576172\" xlink:href=\"#DejaVuSans-6f\"/>\r\n      <use x=\"121.757812\" xlink:href=\"#DejaVuSans-72\"/>\r\n      <use x=\"160.621094\" xlink:href=\"#DejaVuSans-65\"/>\r\n      <use x=\"222.144531\" xlink:href=\"#DejaVuSans-61\"/>\r\n      <use x=\"283.423828\" xlink:href=\"#DejaVuSans-2c\"/>\r\n      <use x=\"315.210938\" xlink:href=\"#DejaVuSans-20\"/>\r\n      <use x=\"346.998047\" xlink:href=\"#DejaVuSans-53\"/>\r\n      <use x=\"410.474609\" xlink:href=\"#DejaVuSans-6f\"/>\r\n      <use x=\"471.65625\" xlink:href=\"#DejaVuSans-75\"/>\r\n      <use x=\"535.035156\" xlink:href=\"#DejaVuSans-74\"/>\r\n      <use x=\"574.244141\" xlink:href=\"#DejaVuSans-68\"/>\r\n     </g>\r\n    </g>\r\n    <g id=\"line2d_32\">\r\n     <path d=\"M 288.933132 210.060312 \r\nL 308.933132 210.060312 \r\n\" style=\"fill:none;stroke:#9467bd;stroke-linecap:square;stroke-width:1.5;\"/>\r\n    </g>\r\n    <g id=\"line2d_33\"/>\r\n    <g id=\"text_15\">\r\n     <!-- US -->\r\n     <g transform=\"translate(316.933132 213.560312)scale(0.1 -0.1)\">\r\n      <defs>\r\n       <path d=\"M 556 4666 \r\nL 1191 4666 \r\nL 1191 1831 \r\nQ 1191 1081 1462 751 \r\nQ 1734 422 2344 422 \r\nQ 2950 422 3222 751 \r\nQ 3494 1081 3494 1831 \r\nL 3494 4666 \r\nL 4128 4666 \r\nL 4128 1753 \r\nQ 4128 841 3676 375 \r\nQ 3225 -91 2344 -91 \r\nQ 1459 -91 1007 375 \r\nQ 556 841 556 1753 \r\nL 556 4666 \r\nz\r\n\" id=\"DejaVuSans-55\" transform=\"scale(0.015625)\"/>\r\n      </defs>\r\n      <use xlink:href=\"#DejaVuSans-55\"/>\r\n      <use x=\"73.193359\" xlink:href=\"#DejaVuSans-53\"/>\r\n     </g>\r\n    </g>\r\n   </g>\r\n  </g>\r\n </g>\r\n <defs>\r\n  <clipPath id=\"p1ca5f27183\">\r\n   <rect height=\"217.44\" width=\"334.8\" x=\"54.895632\" y=\"7.2\"/>\r\n  </clipPath>\r\n </defs>\r\n</svg>\r\n",
      "image/png": "[encoded data removed]"
     },
     "metadata": {
      "needs_background": "light"
     }
    }
   ],
   "source": [
    "for country in countries_list:\n",
    "    print(country)\n",
    "    dates=df_dict[country].index\n",
    "    plt.semilogy(dates, np.array(list(df_dict[country]['Cases'].values)), label=country)\n",
    "    plt.legend(loc='lower right')\n",
    "    plt.tick_params(rotation=45, labelsize=12)\n",
    "    plt.ylabel(casestr, fontsize=14)\n",
    "plt.xlim([dates[0]-np.timedelta64(3,'D'), dates[-1]+np.timedelta64(10,'D')])\n",
    "plt.show()"
   ]
  },
  {
   "cell_type": "markdown",
   "metadata": {
    "id": "7nm1_NVwjsfX"
   },
   "source": [
    "#Predection Models\n",
    "Defining the Models"
   ]
  },
  {
   "cell_type": "code",
   "execution_count": 7,
   "metadata": {
    "id": "IXbSvlBtjvwx"
   },
   "outputs": [],
   "source": [
    "def expo_model(x,p,N0=3,x0=1):\n",
    "    return N0*(1+p)**(x-x0)\n",
    "\n",
    "def logistic_model(x,a,b,c):\n",
    "    return c/(1+np.exp(-(x-b)/a))\n",
    "\n",
    "def gompertz_model(x,a,b,c):\n",
    "    return c*np.exp(-b*np.exp(-x/a))"
   ]
  },
  {
   "cell_type": "markdown",
   "metadata": {
    "id": "rQW3OVfeC3s4"
   },
   "source": [
    "Comparison of the three models considered in this work"
   ]
  },
  {
   "cell_type": "code",
   "execution_count": 8,
   "metadata": {
    "colab": {
     "base_uri": "https://localhost:8080/",
     "height": 296
    },
    "id": "a6XIbEBKvax-",
    "outputId": "cd92dc9e-9047-4e9e-d1aa-cb129d5493ef"
   },
   "outputs": [
    {
     "output_type": "execute_result",
     "data": {
      "text/plain": [
       "(-1000.0, 150000.0)"
      ]
     },
     "metadata": {},
     "execution_count": 8
    },
    {
     "output_type": "display_data",
     "data": {
      "text/plain": "<Figure size 432x288 with 1 Axes>",
      "image/svg+xml": "<?xml version=\"1.0\" encoding=\"utf-8\" standalone=\"no\"?>\r\n<!DOCTYPE svg PUBLIC \"-//W3C//DTD SVG 1.1//EN\"\r\n  \"http://www.w3.org/Graphics/SVG/1.1/DTD/svg11.dtd\">\r\n<svg height=\"262.19625pt\" version=\"1.1\" viewBox=\"0 0 408.053125 262.19625\" width=\"408.053125pt\" xmlns=\"http://www.w3.org/2000/svg\" xmlns:xlink=\"http://www.w3.org/1999/xlink\">\r\n <metadata>\r\n  <rdf:RDF xmlns:cc=\"http://creativecommons.org/ns#\" xmlns:dc=\"http://purl.org/dc/elements/1.1/\" xmlns:rdf=\"http://www.w3.org/1999/02/22-rdf-syntax-ns#\">\r\n   <cc:Work>\r\n    <dc:type rdf:resource=\"http://purl.org/dc/dcmitype/StillImage\"/>\r\n    <dc:date>2021-04-09T17:32:02.099554</dc:date>\r\n    <dc:format>image/svg+xml</dc:format>\r\n    <dc:creator>\r\n     <cc:Agent>\r\n      <dc:title>Matplotlib v3.4.1, https://matplotlib.org/</dc:title>\r\n     </cc:Agent>\r\n    </dc:creator>\r\n   </cc:Work>\r\n  </rdf:RDF>\r\n </metadata>\r\n <defs>\r\n  <style type=\"text/css\">*{stroke-linecap:butt;stroke-linejoin:round;}</style>\r\n </defs>\r\n <g id=\"figure_1\">\r\n  <g id=\"patch_1\">\r\n   <path d=\"M 0 262.19625 \r\nL 408.053125 262.19625 \r\nL 408.053125 0 \r\nL 0 0 \r\nz\r\n\" style=\"fill:none;\"/>\r\n  </g>\r\n  <g id=\"axes_1\">\r\n   <g id=\"patch_2\">\r\n    <path d=\"M 66.053125 224.64 \r\nL 400.853125 224.64 \r\nL 400.853125 7.2 \r\nL 66.053125 7.2 \r\nz\r\n\" style=\"fill:#ffffff;\"/>\r\n   </g>\r\n   <g id=\"matplotlib.axis_1\">\r\n    <g id=\"xtick_1\">\r\n     <g id=\"line2d_1\">\r\n      <defs>\r\n       <path d=\"M 0 0 \r\nL 0 3.5 \r\n\" id=\"m84f99990a7\" style=\"stroke:#000000;stroke-width:0.8;\"/>\r\n      </defs>\r\n      <g>\r\n       <use style=\"stroke:#000000;stroke-width:0.8;\" x=\"81.271307\" xlink:href=\"#m84f99990a7\" y=\"224.64\"/>\r\n      </g>\r\n     </g>\r\n     <g id=\"text_1\">\r\n      <!-- 0 -->\r\n      <g transform=\"translate(78.090057 239.238437)scale(0.1 -0.1)\">\r\n       <defs>\r\n        <path d=\"M 2034 4250 \r\nQ 1547 4250 1301 3770 \r\nQ 1056 3291 1056 2328 \r\nQ 1056 1369 1301 889 \r\nQ 1547 409 2034 409 \r\nQ 2525 409 2770 889 \r\nQ 3016 1369 3016 2328 \r\nQ 3016 3291 2770 3770 \r\nQ 2525 4250 2034 4250 \r\nz\r\nM 2034 4750 \r\nQ 2819 4750 3233 4129 \r\nQ 3647 3509 3647 2328 \r\nQ 3647 1150 3233 529 \r\nQ 2819 -91 2034 -91 \r\nQ 1250 -91 836 529 \r\nQ 422 1150 422 2328 \r\nQ 422 3509 836 4129 \r\nQ 1250 4750 2034 4750 \r\nz\r\n\" id=\"DejaVuSans-30\" transform=\"scale(0.015625)\"/>\r\n       </defs>\r\n       <use xlink:href=\"#DejaVuSans-30\"/>\r\n      </g>\r\n     </g>\r\n    </g>\r\n    <g id=\"xtick_2\">\r\n     <g id=\"line2d_2\">\r\n      <g>\r\n       <use style=\"stroke:#000000;stroke-width:0.8;\" x=\"142.144034\" xlink:href=\"#m84f99990a7\" y=\"224.64\"/>\r\n      </g>\r\n     </g>\r\n     <g id=\"text_2\">\r\n      <!-- 20 -->\r\n      <g transform=\"translate(135.781534 239.238437)scale(0.1 -0.1)\">\r\n       <defs>\r\n        <path d=\"M 1228 531 \r\nL 3431 531 \r\nL 3431 0 \r\nL 469 0 \r\nL 469 531 \r\nQ 828 903 1448 1529 \r\nQ 2069 2156 2228 2338 \r\nQ 2531 2678 2651 2914 \r\nQ 2772 3150 2772 3378 \r\nQ 2772 3750 2511 3984 \r\nQ 2250 4219 1831 4219 \r\nQ 1534 4219 1204 4116 \r\nQ 875 4013 500 3803 \r\nL 500 4441 \r\nQ 881 4594 1212 4672 \r\nQ 1544 4750 1819 4750 \r\nQ 2544 4750 2975 4387 \r\nQ 3406 4025 3406 3419 \r\nQ 3406 3131 3298 2873 \r\nQ 3191 2616 2906 2266 \r\nQ 2828 2175 2409 1742 \r\nQ 1991 1309 1228 531 \r\nz\r\n\" id=\"DejaVuSans-32\" transform=\"scale(0.015625)\"/>\r\n       </defs>\r\n       <use xlink:href=\"#DejaVuSans-32\"/>\r\n       <use x=\"63.623047\" xlink:href=\"#DejaVuSans-30\"/>\r\n      </g>\r\n     </g>\r\n    </g>\r\n    <g id=\"xtick_3\">\r\n     <g id=\"line2d_3\">\r\n      <g>\r\n       <use style=\"stroke:#000000;stroke-width:0.8;\" x=\"203.016761\" xlink:href=\"#m84f99990a7\" y=\"224.64\"/>\r\n      </g>\r\n     </g>\r\n     <g id=\"text_3\">\r\n      <!-- 40 -->\r\n      <g transform=\"translate(196.654261 239.238437)scale(0.1 -0.1)\">\r\n       <defs>\r\n        <path d=\"M 2419 4116 \r\nL 825 1625 \r\nL 2419 1625 \r\nL 2419 4116 \r\nz\r\nM 2253 4666 \r\nL 3047 4666 \r\nL 3047 1625 \r\nL 3713 1625 \r\nL 3713 1100 \r\nL 3047 1100 \r\nL 3047 0 \r\nL 2419 0 \r\nL 2419 1100 \r\nL 313 1100 \r\nL 313 1709 \r\nL 2253 4666 \r\nz\r\n\" id=\"DejaVuSans-34\" transform=\"scale(0.015625)\"/>\r\n       </defs>\r\n       <use xlink:href=\"#DejaVuSans-34\"/>\r\n       <use x=\"63.623047\" xlink:href=\"#DejaVuSans-30\"/>\r\n      </g>\r\n     </g>\r\n    </g>\r\n    <g id=\"xtick_4\">\r\n     <g id=\"line2d_4\">\r\n      <g>\r\n       <use style=\"stroke:#000000;stroke-width:0.8;\" x=\"263.889489\" xlink:href=\"#m84f99990a7\" y=\"224.64\"/>\r\n      </g>\r\n     </g>\r\n     <g id=\"text_4\">\r\n      <!-- 60 -->\r\n      <g transform=\"translate(257.526989 239.238437)scale(0.1 -0.1)\">\r\n       <defs>\r\n        <path d=\"M 2113 2584 \r\nQ 1688 2584 1439 2293 \r\nQ 1191 2003 1191 1497 \r\nQ 1191 994 1439 701 \r\nQ 1688 409 2113 409 \r\nQ 2538 409 2786 701 \r\nQ 3034 994 3034 1497 \r\nQ 3034 2003 2786 2293 \r\nQ 2538 2584 2113 2584 \r\nz\r\nM 3366 4563 \r\nL 3366 3988 \r\nQ 3128 4100 2886 4159 \r\nQ 2644 4219 2406 4219 \r\nQ 1781 4219 1451 3797 \r\nQ 1122 3375 1075 2522 \r\nQ 1259 2794 1537 2939 \r\nQ 1816 3084 2150 3084 \r\nQ 2853 3084 3261 2657 \r\nQ 3669 2231 3669 1497 \r\nQ 3669 778 3244 343 \r\nQ 2819 -91 2113 -91 \r\nQ 1303 -91 875 529 \r\nQ 447 1150 447 2328 \r\nQ 447 3434 972 4092 \r\nQ 1497 4750 2381 4750 \r\nQ 2619 4750 2861 4703 \r\nQ 3103 4656 3366 4563 \r\nz\r\n\" id=\"DejaVuSans-36\" transform=\"scale(0.015625)\"/>\r\n       </defs>\r\n       <use xlink:href=\"#DejaVuSans-36\"/>\r\n       <use x=\"63.623047\" xlink:href=\"#DejaVuSans-30\"/>\r\n      </g>\r\n     </g>\r\n    </g>\r\n    <g id=\"xtick_5\">\r\n     <g id=\"line2d_5\">\r\n      <g>\r\n       <use style=\"stroke:#000000;stroke-width:0.8;\" x=\"324.762216\" xlink:href=\"#m84f99990a7\" y=\"224.64\"/>\r\n      </g>\r\n     </g>\r\n     <g id=\"text_5\">\r\n      <!-- 80 -->\r\n      <g transform=\"translate(318.399716 239.238437)scale(0.1 -0.1)\">\r\n       <defs>\r\n        <path d=\"M 2034 2216 \r\nQ 1584 2216 1326 1975 \r\nQ 1069 1734 1069 1313 \r\nQ 1069 891 1326 650 \r\nQ 1584 409 2034 409 \r\nQ 2484 409 2743 651 \r\nQ 3003 894 3003 1313 \r\nQ 3003 1734 2745 1975 \r\nQ 2488 2216 2034 2216 \r\nz\r\nM 1403 2484 \r\nQ 997 2584 770 2862 \r\nQ 544 3141 544 3541 \r\nQ 544 4100 942 4425 \r\nQ 1341 4750 2034 4750 \r\nQ 2731 4750 3128 4425 \r\nQ 3525 4100 3525 3541 \r\nQ 3525 3141 3298 2862 \r\nQ 3072 2584 2669 2484 \r\nQ 3125 2378 3379 2068 \r\nQ 3634 1759 3634 1313 \r\nQ 3634 634 3220 271 \r\nQ 2806 -91 2034 -91 \r\nQ 1263 -91 848 271 \r\nQ 434 634 434 1313 \r\nQ 434 1759 690 2068 \r\nQ 947 2378 1403 2484 \r\nz\r\nM 1172 3481 \r\nQ 1172 3119 1398 2916 \r\nQ 1625 2713 2034 2713 \r\nQ 2441 2713 2670 2916 \r\nQ 2900 3119 2900 3481 \r\nQ 2900 3844 2670 4047 \r\nQ 2441 4250 2034 4250 \r\nQ 1625 4250 1398 4047 \r\nQ 1172 3844 1172 3481 \r\nz\r\n\" id=\"DejaVuSans-38\" transform=\"scale(0.015625)\"/>\r\n       </defs>\r\n       <use xlink:href=\"#DejaVuSans-38\"/>\r\n       <use x=\"63.623047\" xlink:href=\"#DejaVuSans-30\"/>\r\n      </g>\r\n     </g>\r\n    </g>\r\n    <g id=\"xtick_6\">\r\n     <g id=\"line2d_6\">\r\n      <g>\r\n       <use style=\"stroke:#000000;stroke-width:0.8;\" x=\"385.634943\" xlink:href=\"#m84f99990a7\" y=\"224.64\"/>\r\n      </g>\r\n     </g>\r\n     <g id=\"text_6\">\r\n      <!-- 100 -->\r\n      <g transform=\"translate(376.091193 239.238437)scale(0.1 -0.1)\">\r\n       <defs>\r\n        <path d=\"M 794 531 \r\nL 1825 531 \r\nL 1825 4091 \r\nL 703 3866 \r\nL 703 4441 \r\nL 1819 4666 \r\nL 2450 4666 \r\nL 2450 531 \r\nL 3481 531 \r\nL 3481 0 \r\nL 794 0 \r\nL 794 531 \r\nz\r\n\" id=\"DejaVuSans-31\" transform=\"scale(0.015625)\"/>\r\n       </defs>\r\n       <use xlink:href=\"#DejaVuSans-31\"/>\r\n       <use x=\"63.623047\" xlink:href=\"#DejaVuSans-30\"/>\r\n       <use x=\"127.246094\" xlink:href=\"#DejaVuSans-30\"/>\r\n      </g>\r\n     </g>\r\n    </g>\r\n    <g id=\"text_7\">\r\n     <!-- Time -->\r\n     <g transform=\"translate(221.219531 252.916562)scale(0.1 -0.1)\">\r\n      <defs>\r\n       <path d=\"M -19 4666 \r\nL 3928 4666 \r\nL 3928 4134 \r\nL 2272 4134 \r\nL 2272 0 \r\nL 1638 0 \r\nL 1638 4134 \r\nL -19 4134 \r\nL -19 4666 \r\nz\r\n\" id=\"DejaVuSans-54\" transform=\"scale(0.015625)\"/>\r\n       <path d=\"M 603 3500 \r\nL 1178 3500 \r\nL 1178 0 \r\nL 603 0 \r\nL 603 3500 \r\nz\r\nM 603 4863 \r\nL 1178 4863 \r\nL 1178 4134 \r\nL 603 4134 \r\nL 603 4863 \r\nz\r\n\" id=\"DejaVuSans-69\" transform=\"scale(0.015625)\"/>\r\n       <path d=\"M 3328 2828 \r\nQ 3544 3216 3844 3400 \r\nQ 4144 3584 4550 3584 \r\nQ 5097 3584 5394 3201 \r\nQ 5691 2819 5691 2113 \r\nL 5691 0 \r\nL 5113 0 \r\nL 5113 2094 \r\nQ 5113 2597 4934 2840 \r\nQ 4756 3084 4391 3084 \r\nQ 3944 3084 3684 2787 \r\nQ 3425 2491 3425 1978 \r\nL 3425 0 \r\nL 2847 0 \r\nL 2847 2094 \r\nQ 2847 2600 2669 2842 \r\nQ 2491 3084 2119 3084 \r\nQ 1678 3084 1418 2786 \r\nQ 1159 2488 1159 1978 \r\nL 1159 0 \r\nL 581 0 \r\nL 581 3500 \r\nL 1159 3500 \r\nL 1159 2956 \r\nQ 1356 3278 1631 3431 \r\nQ 1906 3584 2284 3584 \r\nQ 2666 3584 2933 3390 \r\nQ 3200 3197 3328 2828 \r\nz\r\n\" id=\"DejaVuSans-6d\" transform=\"scale(0.015625)\"/>\r\n       <path d=\"M 3597 1894 \r\nL 3597 1613 \r\nL 953 1613 \r\nQ 991 1019 1311 708 \r\nQ 1631 397 2203 397 \r\nQ 2534 397 2845 478 \r\nQ 3156 559 3463 722 \r\nL 3463 178 \r\nQ 3153 47 2828 -22 \r\nQ 2503 -91 2169 -91 \r\nQ 1331 -91 842 396 \r\nQ 353 884 353 1716 \r\nQ 353 2575 817 3079 \r\nQ 1281 3584 2069 3584 \r\nQ 2775 3584 3186 3129 \r\nQ 3597 2675 3597 1894 \r\nz\r\nM 3022 2063 \r\nQ 3016 2534 2758 2815 \r\nQ 2500 3097 2075 3097 \r\nQ 1594 3097 1305 2825 \r\nQ 1016 2553 972 2059 \r\nL 3022 2063 \r\nz\r\n\" id=\"DejaVuSans-65\" transform=\"scale(0.015625)\"/>\r\n      </defs>\r\n      <use xlink:href=\"#DejaVuSans-54\"/>\r\n      <use x=\"57.958984\" xlink:href=\"#DejaVuSans-69\"/>\r\n      <use x=\"85.742188\" xlink:href=\"#DejaVuSans-6d\"/>\r\n      <use x=\"183.154297\" xlink:href=\"#DejaVuSans-65\"/>\r\n     </g>\r\n    </g>\r\n   </g>\r\n   <g id=\"matplotlib.axis_2\">\r\n    <g id=\"ytick_1\">\r\n     <g id=\"line2d_7\">\r\n      <defs>\r\n       <path d=\"M 0 0 \r\nL -3.5 0 \r\n\" id=\"m69d162c308\" style=\"stroke:#000000;stroke-width:0.8;\"/>\r\n      </defs>\r\n      <g>\r\n       <use style=\"stroke:#000000;stroke-width:0.8;\" x=\"66.053125\" xlink:href=\"#m69d162c308\" y=\"223.2\"/>\r\n      </g>\r\n     </g>\r\n     <g id=\"text_8\">\r\n      <!-- 0 -->\r\n      <g transform=\"translate(52.690625 226.999219)scale(0.1 -0.1)\">\r\n       <use xlink:href=\"#DejaVuSans-30\"/>\r\n      </g>\r\n     </g>\r\n    </g>\r\n    <g id=\"ytick_2\">\r\n     <g id=\"line2d_8\">\r\n      <g>\r\n       <use style=\"stroke:#000000;stroke-width:0.8;\" x=\"66.053125\" xlink:href=\"#m69d162c308\" y=\"194.4\"/>\r\n      </g>\r\n     </g>\r\n     <g id=\"text_9\">\r\n      <!-- 20000 -->\r\n      <g transform=\"translate(27.240625 198.199219)scale(0.1 -0.1)\">\r\n       <use xlink:href=\"#DejaVuSans-32\"/>\r\n       <use x=\"63.623047\" xlink:href=\"#DejaVuSans-30\"/>\r\n       <use x=\"127.246094\" xlink:href=\"#DejaVuSans-30\"/>\r\n       <use x=\"190.869141\" xlink:href=\"#DejaVuSans-30\"/>\r\n       <use x=\"254.492188\" xlink:href=\"#DejaVuSans-30\"/>\r\n      </g>\r\n     </g>\r\n    </g>\r\n    <g id=\"ytick_3\">\r\n     <g id=\"line2d_9\">\r\n      <g>\r\n       <use style=\"stroke:#000000;stroke-width:0.8;\" x=\"66.053125\" xlink:href=\"#m69d162c308\" y=\"165.6\"/>\r\n      </g>\r\n     </g>\r\n     <g id=\"text_10\">\r\n      <!-- 40000 -->\r\n      <g transform=\"translate(27.240625 169.399219)scale(0.1 -0.1)\">\r\n       <use xlink:href=\"#DejaVuSans-34\"/>\r\n       <use x=\"63.623047\" xlink:href=\"#DejaVuSans-30\"/>\r\n       <use x=\"127.246094\" xlink:href=\"#DejaVuSans-30\"/>\r\n       <use x=\"190.869141\" xlink:href=\"#DejaVuSans-30\"/>\r\n       <use x=\"254.492188\" xlink:href=\"#DejaVuSans-30\"/>\r\n      </g>\r\n     </g>\r\n    </g>\r\n    <g id=\"ytick_4\">\r\n     <g id=\"line2d_10\">\r\n      <g>\r\n       <use style=\"stroke:#000000;stroke-width:0.8;\" x=\"66.053125\" xlink:href=\"#m69d162c308\" y=\"136.8\"/>\r\n      </g>\r\n     </g>\r\n     <g id=\"text_11\">\r\n      <!-- 60000 -->\r\n      <g transform=\"translate(27.240625 140.599219)scale(0.1 -0.1)\">\r\n       <use xlink:href=\"#DejaVuSans-36\"/>\r\n       <use x=\"63.623047\" xlink:href=\"#DejaVuSans-30\"/>\r\n       <use x=\"127.246094\" xlink:href=\"#DejaVuSans-30\"/>\r\n       <use x=\"190.869141\" xlink:href=\"#DejaVuSans-30\"/>\r\n       <use x=\"254.492188\" xlink:href=\"#DejaVuSans-30\"/>\r\n      </g>\r\n     </g>\r\n    </g>\r\n    <g id=\"ytick_5\">\r\n     <g id=\"line2d_11\">\r\n      <g>\r\n       <use style=\"stroke:#000000;stroke-width:0.8;\" x=\"66.053125\" xlink:href=\"#m69d162c308\" y=\"108\"/>\r\n      </g>\r\n     </g>\r\n     <g id=\"text_12\">\r\n      <!-- 80000 -->\r\n      <g transform=\"translate(27.240625 111.799219)scale(0.1 -0.1)\">\r\n       <use xlink:href=\"#DejaVuSans-38\"/>\r\n       <use x=\"63.623047\" xlink:href=\"#DejaVuSans-30\"/>\r\n       <use x=\"127.246094\" xlink:href=\"#DejaVuSans-30\"/>\r\n       <use x=\"190.869141\" xlink:href=\"#DejaVuSans-30\"/>\r\n       <use x=\"254.492188\" xlink:href=\"#DejaVuSans-30\"/>\r\n      </g>\r\n     </g>\r\n    </g>\r\n    <g id=\"ytick_6\">\r\n     <g id=\"line2d_12\">\r\n      <g>\r\n       <use style=\"stroke:#000000;stroke-width:0.8;\" x=\"66.053125\" xlink:href=\"#m69d162c308\" y=\"79.2\"/>\r\n      </g>\r\n     </g>\r\n     <g id=\"text_13\">\r\n      <!-- 100000 -->\r\n      <g transform=\"translate(20.878125 82.999219)scale(0.1 -0.1)\">\r\n       <use xlink:href=\"#DejaVuSans-31\"/>\r\n       <use x=\"63.623047\" xlink:href=\"#DejaVuSans-30\"/>\r\n       <use x=\"127.246094\" xlink:href=\"#DejaVuSans-30\"/>\r\n       <use x=\"190.869141\" xlink:href=\"#DejaVuSans-30\"/>\r\n       <use x=\"254.492188\" xlink:href=\"#DejaVuSans-30\"/>\r\n       <use x=\"318.115234\" xlink:href=\"#DejaVuSans-30\"/>\r\n      </g>\r\n     </g>\r\n    </g>\r\n    <g id=\"ytick_7\">\r\n     <g id=\"line2d_13\">\r\n      <g>\r\n       <use style=\"stroke:#000000;stroke-width:0.8;\" x=\"66.053125\" xlink:href=\"#m69d162c308\" y=\"50.4\"/>\r\n      </g>\r\n     </g>\r\n     <g id=\"text_14\">\r\n      <!-- 120000 -->\r\n      <g transform=\"translate(20.878125 54.199219)scale(0.1 -0.1)\">\r\n       <use xlink:href=\"#DejaVuSans-31\"/>\r\n       <use x=\"63.623047\" xlink:href=\"#DejaVuSans-32\"/>\r\n       <use x=\"127.246094\" xlink:href=\"#DejaVuSans-30\"/>\r\n       <use x=\"190.869141\" xlink:href=\"#DejaVuSans-30\"/>\r\n       <use x=\"254.492188\" xlink:href=\"#DejaVuSans-30\"/>\r\n       <use x=\"318.115234\" xlink:href=\"#DejaVuSans-30\"/>\r\n      </g>\r\n     </g>\r\n    </g>\r\n    <g id=\"ytick_8\">\r\n     <g id=\"line2d_14\">\r\n      <g>\r\n       <use style=\"stroke:#000000;stroke-width:0.8;\" x=\"66.053125\" xlink:href=\"#m69d162c308\" y=\"21.6\"/>\r\n      </g>\r\n     </g>\r\n     <g id=\"text_15\">\r\n      <!-- 140000 -->\r\n      <g transform=\"translate(20.878125 25.399219)scale(0.1 -0.1)\">\r\n       <use xlink:href=\"#DejaVuSans-31\"/>\r\n       <use x=\"63.623047\" xlink:href=\"#DejaVuSans-34\"/>\r\n       <use x=\"127.246094\" xlink:href=\"#DejaVuSans-30\"/>\r\n       <use x=\"190.869141\" xlink:href=\"#DejaVuSans-30\"/>\r\n       <use x=\"254.492188\" xlink:href=\"#DejaVuSans-30\"/>\r\n       <use x=\"318.115234\" xlink:href=\"#DejaVuSans-30\"/>\r\n      </g>\r\n     </g>\r\n    </g>\r\n    <g id=\"text_16\">\r\n     <!-- Cases -->\r\n     <g transform=\"translate(14.798438 130.761406)rotate(-90)scale(0.1 -0.1)\">\r\n      <defs>\r\n       <path d=\"M 4122 4306 \r\nL 4122 3641 \r\nQ 3803 3938 3442 4084 \r\nQ 3081 4231 2675 4231 \r\nQ 1875 4231 1450 3742 \r\nQ 1025 3253 1025 2328 \r\nQ 1025 1406 1450 917 \r\nQ 1875 428 2675 428 \r\nQ 3081 428 3442 575 \r\nQ 3803 722 4122 1019 \r\nL 4122 359 \r\nQ 3791 134 3420 21 \r\nQ 3050 -91 2638 -91 \r\nQ 1578 -91 968 557 \r\nQ 359 1206 359 2328 \r\nQ 359 3453 968 4101 \r\nQ 1578 4750 2638 4750 \r\nQ 3056 4750 3426 4639 \r\nQ 3797 4528 4122 4306 \r\nz\r\n\" id=\"DejaVuSans-43\" transform=\"scale(0.015625)\"/>\r\n       <path d=\"M 2194 1759 \r\nQ 1497 1759 1228 1600 \r\nQ 959 1441 959 1056 \r\nQ 959 750 1161 570 \r\nQ 1363 391 1709 391 \r\nQ 2188 391 2477 730 \r\nQ 2766 1069 2766 1631 \r\nL 2766 1759 \r\nL 2194 1759 \r\nz\r\nM 3341 1997 \r\nL 3341 0 \r\nL 2766 0 \r\nL 2766 531 \r\nQ 2569 213 2275 61 \r\nQ 1981 -91 1556 -91 \r\nQ 1019 -91 701 211 \r\nQ 384 513 384 1019 \r\nQ 384 1609 779 1909 \r\nQ 1175 2209 1959 2209 \r\nL 2766 2209 \r\nL 2766 2266 \r\nQ 2766 2663 2505 2880 \r\nQ 2244 3097 1772 3097 \r\nQ 1472 3097 1187 3025 \r\nQ 903 2953 641 2809 \r\nL 641 3341 \r\nQ 956 3463 1253 3523 \r\nQ 1550 3584 1831 3584 \r\nQ 2591 3584 2966 3190 \r\nQ 3341 2797 3341 1997 \r\nz\r\n\" id=\"DejaVuSans-61\" transform=\"scale(0.015625)\"/>\r\n       <path d=\"M 2834 3397 \r\nL 2834 2853 \r\nQ 2591 2978 2328 3040 \r\nQ 2066 3103 1784 3103 \r\nQ 1356 3103 1142 2972 \r\nQ 928 2841 928 2578 \r\nQ 928 2378 1081 2264 \r\nQ 1234 2150 1697 2047 \r\nL 1894 2003 \r\nQ 2506 1872 2764 1633 \r\nQ 3022 1394 3022 966 \r\nQ 3022 478 2636 193 \r\nQ 2250 -91 1575 -91 \r\nQ 1294 -91 989 -36 \r\nQ 684 19 347 128 \r\nL 347 722 \r\nQ 666 556 975 473 \r\nQ 1284 391 1588 391 \r\nQ 1994 391 2212 530 \r\nQ 2431 669 2431 922 \r\nQ 2431 1156 2273 1281 \r\nQ 2116 1406 1581 1522 \r\nL 1381 1569 \r\nQ 847 1681 609 1914 \r\nQ 372 2147 372 2553 \r\nQ 372 3047 722 3315 \r\nQ 1072 3584 1716 3584 \r\nQ 2034 3584 2315 3537 \r\nQ 2597 3491 2834 3397 \r\nz\r\n\" id=\"DejaVuSans-73\" transform=\"scale(0.015625)\"/>\r\n      </defs>\r\n      <use xlink:href=\"#DejaVuSans-43\"/>\r\n      <use x=\"69.824219\" xlink:href=\"#DejaVuSans-61\"/>\r\n      <use x=\"131.103516\" xlink:href=\"#DejaVuSans-73\"/>\r\n      <use x=\"183.203125\" xlink:href=\"#DejaVuSans-65\"/>\r\n      <use x=\"244.726562\" xlink:href=\"#DejaVuSans-73\"/>\r\n     </g>\r\n    </g>\r\n   </g>\r\n   <g id=\"line2d_15\">\r\n    <path clip-path=\"url(#p5fe85b2ef0)\" d=\"M 81.271307 223.19569 \r\nL 84.345687 223.194681 \r\nL 87.420067 223.193435 \r\nL 90.494447 223.191898 \r\nL 93.568827 223.19 \r\nL 96.643208 223.187658 \r\nL 99.717588 223.184768 \r\nL 102.791968 223.1812 \r\nL 105.866348 223.176798 \r\nL 108.940728 223.171365 \r\nL 112.015108 223.164659 \r\nL 115.089489 223.156384 \r\nL 118.163869 223.146173 \r\nL 121.238249 223.133571 \r\nL 124.312629 223.118021 \r\nL 127.387009 223.098834 \r\nL 130.461389 223.075159 \r\nL 133.53577 223.045951 \r\nL 136.61015 223.009917 \r\nL 139.68453 222.965469 \r\nL 142.75891 222.910648 \r\nL 145.83329 222.843044 \r\nL 148.90767 222.759694 \r\nL 151.982051 222.656956 \r\nL 155.056431 222.530356 \r\nL 158.130811 222.374413 \r\nL 161.205191 222.182412 \r\nL 164.279571 221.946149 \r\nL 167.353951 221.655624 \r\nL 170.428332 221.298679 \r\nL 173.502712 220.86059 \r\nL 176.577092 220.323603 \r\nL 179.651472 219.66643 \r\nL 182.725852 218.863726 \r\nL 185.800232 217.885575 \r\nL 188.874613 216.697052 \r\nL 191.948993 215.257947 \r\nL 195.023373 213.522783 \r\nL 198.097753 211.441287 \r\nL 201.172133 208.959542 \r\nL 204.246513 206.022049 \r\nL 207.320894 202.574929 \r\nL 210.395274 198.570411 \r\nL 213.469654 193.972576 \r\nL 216.544034 188.764028 \r\nL 219.618414 182.952771 \r\nL 222.692794 176.578133 \r\nL 225.767175 169.714325 \r\nL 228.841555 162.470212 \r\nL 231.915935 154.984388 \r\nL 234.990315 147.415612 \r\nL 238.064695 139.929788 \r\nL 241.139075 132.685675 \r\nL 244.213456 125.821867 \r\nL 247.287836 119.447229 \r\nL 250.362216 113.635972 \r\nL 253.436596 108.427424 \r\nL 256.510976 103.829589 \r\nL 259.585356 99.825071 \r\nL 262.659737 96.377951 \r\nL 265.734117 93.440458 \r\nL 268.808497 90.958713 \r\nL 271.882877 88.877217 \r\nL 274.957257 87.142053 \r\nL 278.031637 85.702948 \r\nL 281.106018 84.514425 \r\nL 284.180398 83.536274 \r\nL 287.254778 82.73357 \r\nL 290.329158 82.076397 \r\nL 293.403538 81.53941 \r\nL 296.477918 81.101321 \r\nL 299.552299 80.744376 \r\nL 302.626679 80.453851 \r\nL 305.701059 80.217588 \r\nL 308.775439 80.025587 \r\nL 311.849819 79.869644 \r\nL 314.924199 79.743044 \r\nL 317.99858 79.640306 \r\nL 321.07296 79.556956 \r\nL 324.14734 79.489352 \r\nL 327.22172 79.434531 \r\nL 330.2961 79.390083 \r\nL 333.37048 79.354049 \r\nL 336.444861 79.324841 \r\nL 339.519241 79.301166 \r\nL 342.593621 79.281979 \r\nL 345.668001 79.266429 \r\nL 348.742381 79.253827 \r\nL 351.816761 79.243616 \r\nL 354.891142 79.235341 \r\nL 357.965522 79.228635 \r\nL 361.039902 79.223202 \r\nL 364.114282 79.2188 \r\nL 367.188662 79.215232 \r\nL 370.263042 79.212342 \r\nL 373.337423 79.21 \r\nL 376.411803 79.208102 \r\nL 379.486183 79.206565 \r\nL 382.560563 79.205319 \r\nL 385.634943 79.20431 \r\n\" style=\"fill:none;stroke:#0000ff;stroke-linecap:square;stroke-width:1.5;\"/>\r\n   </g>\r\n   <g id=\"line2d_16\">\r\n    <path clip-path=\"url(#p5fe85b2ef0)\" d=\"M 81.271307 223.196488 \r\nL 84.345687 223.195671 \r\nL 87.420067 223.194664 \r\nL 90.494447 223.193423 \r\nL 93.568827 223.191894 \r\nL 96.643208 223.190008 \r\nL 99.717588 223.187684 \r\nL 102.791968 223.18482 \r\nL 105.866348 223.18129 \r\nL 108.940728 223.176938 \r\nL 112.015108 223.171574 \r\nL 115.089489 223.164963 \r\nL 118.163869 223.156815 \r\nL 121.238249 223.146771 \r\nL 124.312629 223.134391 \r\nL 127.387009 223.119132 \r\nL 130.461389 223.100324 \r\nL 133.53577 223.077142 \r\nL 136.61015 223.048568 \r\nL 139.68453 223.013349 \r\nL 142.75891 222.969939 \r\nL 145.83329 222.916432 \r\nL 148.90767 222.850482 \r\nL 151.982051 222.769193 \r\nL 155.056431 222.668998 \r\nL 158.130811 222.5455 \r\nL 161.205191 222.39328 \r\nL 164.279571 222.205657 \r\nL 167.353951 221.974398 \r\nL 170.428332 221.689354 \r\nL 173.502712 221.338016 \r\nL 176.577092 220.904966 \r\nL 179.651472 220.371199 \r\nL 182.725852 219.713291 \r\nL 185.800232 218.902371 \r\nL 188.874613 217.902851 \r\nL 191.948993 216.670869 \r\nL 195.023373 215.152358 \r\nL 198.097753 213.28068 \r\nL 201.172133 210.973697 \r\nL 204.246513 208.130169 \r\nL 207.320894 204.625307 \r\nL 210.395274 200.305304 \r\nL 213.469654 194.980577 \r\nL 216.544034 188.417454 \r\nL 219.618414 180.327915 \r\nL 222.692794 170.356953 \r\nL 225.767175 158.066998 \r\nL 228.841555 142.91871 \r\nL 231.915935 124.247314 \r\nL 234.990315 101.233425 \r\nL 238.064695 72.867087 \r\nL 241.139075 37.903457 \r\nL 243.914414 -1 \r\n\" style=\"fill:none;stroke:#008000;stroke-linecap:square;stroke-width:1.5;\"/>\r\n   </g>\r\n   <g id=\"line2d_17\">\r\n    <path clip-path=\"url(#p5fe85b2ef0)\" d=\"M 81.271307 223.2 \r\nL 84.345687 223.2 \r\nL 87.420067 223.2 \r\nL 90.494447 223.2 \r\nL 93.568827 223.2 \r\nL 96.643208 223.2 \r\nL 99.717588 223.2 \r\nL 102.791968 223.2 \r\nL 105.866348 223.2 \r\nL 108.940728 223.2 \r\nL 112.015108 223.2 \r\nL 115.089489 223.199999 \r\nL 118.163869 223.199997 \r\nL 121.238249 223.199989 \r\nL 124.312629 223.199959 \r\nL 127.387009 223.199863 \r\nL 130.461389 223.199579 \r\nL 133.53577 223.198823 \r\nL 136.61015 223.19697 \r\nL 139.68453 223.192772 \r\nL 142.75891 223.183927 \r\nL 145.83329 223.16649 \r\nL 148.90767 223.134162 \r\nL 151.982051 223.077508 \r\nL 155.056431 222.983246 \r\nL 158.130811 222.833715 \r\nL 161.205191 222.606699 \r\nL 164.279571 222.275679 \r\nL 167.353951 221.810605 \r\nL 170.428332 221.179125 \r\nL 173.502712 220.348211 \r\nL 176.577092 219.286009 \r\nL 179.651472 217.963733 \r\nL 182.725852 216.357428 \r\nL 185.800232 214.449431 \r\nL 188.874613 212.22941 \r\nL 191.948993 209.694941 \r\nL 195.023373 206.851579 \r\nL 198.097753 203.712496 \r\nL 201.172133 200.297729 \r\nL 204.246513 196.633158 \r\nL 207.320894 192.749295 \r\nL 210.395274 188.679987 \r\nL 213.469654 184.461134 \r\nL 216.544034 180.129467 \r\nL 219.618414 175.721464 \r\nL 222.692794 171.272411 \r\nL 225.767175 166.815655 \r\nL 228.841555 162.38202 \r\nL 231.915935 157.999401 \r\nL 234.990315 153.692518 \r\nL 238.064695 149.482795 \r\nL 241.139075 145.388364 \r\nL 244.213456 141.424154 \r\nL 247.287836 137.602051 \r\nL 250.362216 133.931111 \r\nL 253.436596 130.417803 \r\nL 256.510976 127.066273 \r\nL 259.585356 123.878614 \r\nL 262.659737 120.855134 \r\nL 265.734117 117.99461 \r\nL 268.808497 115.294538 \r\nL 271.882877 112.751353 \r\nL 274.957257 110.360636 \r\nL 278.031637 108.117296 \r\nL 281.106018 106.015738 \r\nL 284.180398 104.049999 \r\nL 287.254778 102.213878 \r\nL 290.329158 100.501035 \r\nL 293.403538 98.905087 \r\nL 296.477918 97.419672 \r\nL 299.552299 96.03852 \r\nL 302.626679 94.755493 \r\nL 305.701059 93.564627 \r\nL 308.775439 92.460162 \r\nL 311.849819 91.436561 \r\nL 314.924199 90.488527 \r\nL 317.99858 89.611011 \r\nL 321.07296 88.799219 \r\nL 324.14734 88.048612 \r\nL 327.22172 87.354904 \r\nL 330.2961 86.714058 \r\nL 333.37048 86.12228 \r\nL 336.444861 85.576013 \r\nL 339.519241 85.071926 \r\nL 342.593621 84.606906 \r\nL 345.668001 84.178045 \r\nL 348.742381 83.782635 \r\nL 351.816761 83.418155 \r\nL 354.891142 83.082259 \r\nL 357.965522 82.772767 \r\nL 361.039902 82.487658 \r\nL 364.114282 82.225054 \r\nL 367.188662 81.983219 \r\nL 370.263042 81.76054 \r\nL 373.337423 81.555529 \r\nL 376.411803 81.366806 \r\nL 379.486183 81.193097 \r\nL 382.560563 81.033224 \r\nL 385.634943 80.886098 \r\n\" style=\"fill:none;stroke:#ff0000;stroke-linecap:square;stroke-width:1.5;\"/>\r\n   </g>\r\n   <g id=\"patch_3\">\r\n    <path d=\"M 66.053125 224.64 \r\nL 66.053125 7.2 \r\n\" style=\"fill:none;stroke:#000000;stroke-linecap:square;stroke-linejoin:miter;stroke-width:0.8;\"/>\r\n   </g>\r\n   <g id=\"patch_4\">\r\n    <path d=\"M 400.853125 224.64 \r\nL 400.853125 7.2 \r\n\" style=\"fill:none;stroke:#000000;stroke-linecap:square;stroke-linejoin:miter;stroke-width:0.8;\"/>\r\n   </g>\r\n   <g id=\"patch_5\">\r\n    <path d=\"M 66.053125 224.64 \r\nL 400.853125 224.64 \r\n\" style=\"fill:none;stroke:#000000;stroke-linecap:square;stroke-linejoin:miter;stroke-width:0.8;\"/>\r\n   </g>\r\n   <g id=\"patch_6\">\r\n    <path d=\"M 66.053125 7.2 \r\nL 400.853125 7.2 \r\n\" style=\"fill:none;stroke:#000000;stroke-linecap:square;stroke-linejoin:miter;stroke-width:0.8;\"/>\r\n   </g>\r\n   <g id=\"legend_1\">\r\n    <g id=\"patch_7\">\r\n     <path d=\"M 302.715625 59.234375 \r\nL 393.853125 59.234375 \r\nQ 395.853125 59.234375 395.853125 57.234375 \r\nL 395.853125 14.2 \r\nQ 395.853125 12.2 393.853125 12.2 \r\nL 302.715625 12.2 \r\nQ 300.715625 12.2 300.715625 14.2 \r\nL 300.715625 57.234375 \r\nQ 300.715625 59.234375 302.715625 59.234375 \r\nz\r\n\" style=\"fill:#ffffff;opacity:0.8;stroke:#cccccc;stroke-linejoin:miter;\"/>\r\n    </g>\r\n    <g id=\"line2d_18\">\r\n     <path d=\"M 304.715625 20.298437 \r\nL 324.715625 20.298437 \r\n\" style=\"fill:none;stroke:#0000ff;stroke-linecap:square;stroke-width:1.5;\"/>\r\n    </g>\r\n    <g id=\"line2d_19\"/>\r\n    <g id=\"text_17\">\r\n     <!-- Logisitc -->\r\n     <g transform=\"translate(332.715625 23.798437)scale(0.1 -0.1)\">\r\n      <defs>\r\n       <path d=\"M 628 4666 \r\nL 1259 4666 \r\nL 1259 531 \r\nL 3531 531 \r\nL 3531 0 \r\nL 628 0 \r\nL 628 4666 \r\nz\r\n\" id=\"DejaVuSans-4c\" transform=\"scale(0.015625)\"/>\r\n       <path d=\"M 1959 3097 \r\nQ 1497 3097 1228 2736 \r\nQ 959 2375 959 1747 \r\nQ 959 1119 1226 758 \r\nQ 1494 397 1959 397 \r\nQ 2419 397 2687 759 \r\nQ 2956 1122 2956 1747 \r\nQ 2956 2369 2687 2733 \r\nQ 2419 3097 1959 3097 \r\nz\r\nM 1959 3584 \r\nQ 2709 3584 3137 3096 \r\nQ 3566 2609 3566 1747 \r\nQ 3566 888 3137 398 \r\nQ 2709 -91 1959 -91 \r\nQ 1206 -91 779 398 \r\nQ 353 888 353 1747 \r\nQ 353 2609 779 3096 \r\nQ 1206 3584 1959 3584 \r\nz\r\n\" id=\"DejaVuSans-6f\" transform=\"scale(0.015625)\"/>\r\n       <path d=\"M 2906 1791 \r\nQ 2906 2416 2648 2759 \r\nQ 2391 3103 1925 3103 \r\nQ 1463 3103 1205 2759 \r\nQ 947 2416 947 1791 \r\nQ 947 1169 1205 825 \r\nQ 1463 481 1925 481 \r\nQ 2391 481 2648 825 \r\nQ 2906 1169 2906 1791 \r\nz\r\nM 3481 434 \r\nQ 3481 -459 3084 -895 \r\nQ 2688 -1331 1869 -1331 \r\nQ 1566 -1331 1297 -1286 \r\nQ 1028 -1241 775 -1147 \r\nL 775 -588 \r\nQ 1028 -725 1275 -790 \r\nQ 1522 -856 1778 -856 \r\nQ 2344 -856 2625 -561 \r\nQ 2906 -266 2906 331 \r\nL 2906 616 \r\nQ 2728 306 2450 153 \r\nQ 2172 0 1784 0 \r\nQ 1141 0 747 490 \r\nQ 353 981 353 1791 \r\nQ 353 2603 747 3093 \r\nQ 1141 3584 1784 3584 \r\nQ 2172 3584 2450 3431 \r\nQ 2728 3278 2906 2969 \r\nL 2906 3500 \r\nL 3481 3500 \r\nL 3481 434 \r\nz\r\n\" id=\"DejaVuSans-67\" transform=\"scale(0.015625)\"/>\r\n       <path d=\"M 1172 4494 \r\nL 1172 3500 \r\nL 2356 3500 \r\nL 2356 3053 \r\nL 1172 3053 \r\nL 1172 1153 \r\nQ 1172 725 1289 603 \r\nQ 1406 481 1766 481 \r\nL 2356 481 \r\nL 2356 0 \r\nL 1766 0 \r\nQ 1100 0 847 248 \r\nQ 594 497 594 1153 \r\nL 594 3053 \r\nL 172 3053 \r\nL 172 3500 \r\nL 594 3500 \r\nL 594 4494 \r\nL 1172 4494 \r\nz\r\n\" id=\"DejaVuSans-74\" transform=\"scale(0.015625)\"/>\r\n       <path d=\"M 3122 3366 \r\nL 3122 2828 \r\nQ 2878 2963 2633 3030 \r\nQ 2388 3097 2138 3097 \r\nQ 1578 3097 1268 2742 \r\nQ 959 2388 959 1747 \r\nQ 959 1106 1268 751 \r\nQ 1578 397 2138 397 \r\nQ 2388 397 2633 464 \r\nQ 2878 531 3122 666 \r\nL 3122 134 \r\nQ 2881 22 2623 -34 \r\nQ 2366 -91 2075 -91 \r\nQ 1284 -91 818 406 \r\nQ 353 903 353 1747 \r\nQ 353 2603 823 3093 \r\nQ 1294 3584 2113 3584 \r\nQ 2378 3584 2631 3529 \r\nQ 2884 3475 3122 3366 \r\nz\r\n\" id=\"DejaVuSans-63\" transform=\"scale(0.015625)\"/>\r\n      </defs>\r\n      <use xlink:href=\"#DejaVuSans-4c\"/>\r\n      <use x=\"53.962891\" xlink:href=\"#DejaVuSans-6f\"/>\r\n      <use x=\"115.144531\" xlink:href=\"#DejaVuSans-67\"/>\r\n      <use x=\"178.621094\" xlink:href=\"#DejaVuSans-69\"/>\r\n      <use x=\"206.404297\" xlink:href=\"#DejaVuSans-73\"/>\r\n      <use x=\"258.503906\" xlink:href=\"#DejaVuSans-69\"/>\r\n      <use x=\"286.287109\" xlink:href=\"#DejaVuSans-74\"/>\r\n      <use x=\"325.496094\" xlink:href=\"#DejaVuSans-63\"/>\r\n     </g>\r\n    </g>\r\n    <g id=\"line2d_20\">\r\n     <path d=\"M 304.715625 34.976562 \r\nL 324.715625 34.976562 \r\n\" style=\"fill:none;stroke:#008000;stroke-linecap:square;stroke-width:1.5;\"/>\r\n    </g>\r\n    <g id=\"line2d_21\"/>\r\n    <g id=\"text_18\">\r\n     <!-- Exponential -->\r\n     <g transform=\"translate(332.715625 38.476562)scale(0.1 -0.1)\">\r\n      <defs>\r\n       <path d=\"M 628 4666 \r\nL 3578 4666 \r\nL 3578 4134 \r\nL 1259 4134 \r\nL 1259 2753 \r\nL 3481 2753 \r\nL 3481 2222 \r\nL 1259 2222 \r\nL 1259 531 \r\nL 3634 531 \r\nL 3634 0 \r\nL 628 0 \r\nL 628 4666 \r\nz\r\n\" id=\"DejaVuSans-45\" transform=\"scale(0.015625)\"/>\r\n       <path d=\"M 3513 3500 \r\nL 2247 1797 \r\nL 3578 0 \r\nL 2900 0 \r\nL 1881 1375 \r\nL 863 0 \r\nL 184 0 \r\nL 1544 1831 \r\nL 300 3500 \r\nL 978 3500 \r\nL 1906 2253 \r\nL 2834 3500 \r\nL 3513 3500 \r\nz\r\n\" id=\"DejaVuSans-78\" transform=\"scale(0.015625)\"/>\r\n       <path d=\"M 1159 525 \r\nL 1159 -1331 \r\nL 581 -1331 \r\nL 581 3500 \r\nL 1159 3500 \r\nL 1159 2969 \r\nQ 1341 3281 1617 3432 \r\nQ 1894 3584 2278 3584 \r\nQ 2916 3584 3314 3078 \r\nQ 3713 2572 3713 1747 \r\nQ 3713 922 3314 415 \r\nQ 2916 -91 2278 -91 \r\nQ 1894 -91 1617 61 \r\nQ 1341 213 1159 525 \r\nz\r\nM 3116 1747 \r\nQ 3116 2381 2855 2742 \r\nQ 2594 3103 2138 3103 \r\nQ 1681 3103 1420 2742 \r\nQ 1159 2381 1159 1747 \r\nQ 1159 1113 1420 752 \r\nQ 1681 391 2138 391 \r\nQ 2594 391 2855 752 \r\nQ 3116 1113 3116 1747 \r\nz\r\n\" id=\"DejaVuSans-70\" transform=\"scale(0.015625)\"/>\r\n       <path d=\"M 3513 2113 \r\nL 3513 0 \r\nL 2938 0 \r\nL 2938 2094 \r\nQ 2938 2591 2744 2837 \r\nQ 2550 3084 2163 3084 \r\nQ 1697 3084 1428 2787 \r\nQ 1159 2491 1159 1978 \r\nL 1159 0 \r\nL 581 0 \r\nL 581 3500 \r\nL 1159 3500 \r\nL 1159 2956 \r\nQ 1366 3272 1645 3428 \r\nQ 1925 3584 2291 3584 \r\nQ 2894 3584 3203 3211 \r\nQ 3513 2838 3513 2113 \r\nz\r\n\" id=\"DejaVuSans-6e\" transform=\"scale(0.015625)\"/>\r\n       <path d=\"M 603 4863 \r\nL 1178 4863 \r\nL 1178 0 \r\nL 603 0 \r\nL 603 4863 \r\nz\r\n\" id=\"DejaVuSans-6c\" transform=\"scale(0.015625)\"/>\r\n      </defs>\r\n      <use xlink:href=\"#DejaVuSans-45\"/>\r\n      <use x=\"63.183594\" xlink:href=\"#DejaVuSans-78\"/>\r\n      <use x=\"122.363281\" xlink:href=\"#DejaVuSans-70\"/>\r\n      <use x=\"185.839844\" xlink:href=\"#DejaVuSans-6f\"/>\r\n      <use x=\"247.021484\" xlink:href=\"#DejaVuSans-6e\"/>\r\n      <use x=\"310.400391\" xlink:href=\"#DejaVuSans-65\"/>\r\n      <use x=\"371.923828\" xlink:href=\"#DejaVuSans-6e\"/>\r\n      <use x=\"435.302734\" xlink:href=\"#DejaVuSans-74\"/>\r\n      <use x=\"474.511719\" xlink:href=\"#DejaVuSans-69\"/>\r\n      <use x=\"502.294922\" xlink:href=\"#DejaVuSans-61\"/>\r\n      <use x=\"563.574219\" xlink:href=\"#DejaVuSans-6c\"/>\r\n     </g>\r\n    </g>\r\n    <g id=\"line2d_22\">\r\n     <path d=\"M 304.715625 49.654687 \r\nL 324.715625 49.654687 \r\n\" style=\"fill:none;stroke:#ff0000;stroke-linecap:square;stroke-width:1.5;\"/>\r\n    </g>\r\n    <g id=\"line2d_23\"/>\r\n    <g id=\"text_19\">\r\n     <!-- Gompertz -->\r\n     <g transform=\"translate(332.715625 53.154687)scale(0.1 -0.1)\">\r\n      <defs>\r\n       <path d=\"M 3809 666 \r\nL 3809 1919 \r\nL 2778 1919 \r\nL 2778 2438 \r\nL 4434 2438 \r\nL 4434 434 \r\nQ 4069 175 3628 42 \r\nQ 3188 -91 2688 -91 \r\nQ 1594 -91 976 548 \r\nQ 359 1188 359 2328 \r\nQ 359 3472 976 4111 \r\nQ 1594 4750 2688 4750 \r\nQ 3144 4750 3555 4637 \r\nQ 3966 4525 4313 4306 \r\nL 4313 3634 \r\nQ 3963 3931 3569 4081 \r\nQ 3175 4231 2741 4231 \r\nQ 1884 4231 1454 3753 \r\nQ 1025 3275 1025 2328 \r\nQ 1025 1384 1454 906 \r\nQ 1884 428 2741 428 \r\nQ 3075 428 3337 486 \r\nQ 3600 544 3809 666 \r\nz\r\n\" id=\"DejaVuSans-47\" transform=\"scale(0.015625)\"/>\r\n       <path d=\"M 2631 2963 \r\nQ 2534 3019 2420 3045 \r\nQ 2306 3072 2169 3072 \r\nQ 1681 3072 1420 2755 \r\nQ 1159 2438 1159 1844 \r\nL 1159 0 \r\nL 581 0 \r\nL 581 3500 \r\nL 1159 3500 \r\nL 1159 2956 \r\nQ 1341 3275 1631 3429 \r\nQ 1922 3584 2338 3584 \r\nQ 2397 3584 2469 3576 \r\nQ 2541 3569 2628 3553 \r\nL 2631 2963 \r\nz\r\n\" id=\"DejaVuSans-72\" transform=\"scale(0.015625)\"/>\r\n       <path d=\"M 353 3500 \r\nL 3084 3500 \r\nL 3084 2975 \r\nL 922 459 \r\nL 3084 459 \r\nL 3084 0 \r\nL 275 0 \r\nL 275 525 \r\nL 2438 3041 \r\nL 353 3041 \r\nL 353 3500 \r\nz\r\n\" id=\"DejaVuSans-7a\" transform=\"scale(0.015625)\"/>\r\n      </defs>\r\n      <use xlink:href=\"#DejaVuSans-47\"/>\r\n      <use x=\"77.490234\" xlink:href=\"#DejaVuSans-6f\"/>\r\n      <use x=\"138.671875\" xlink:href=\"#DejaVuSans-6d\"/>\r\n      <use x=\"236.083984\" xlink:href=\"#DejaVuSans-70\"/>\r\n      <use x=\"299.560547\" xlink:href=\"#DejaVuSans-65\"/>\r\n      <use x=\"361.083984\" xlink:href=\"#DejaVuSans-72\"/>\r\n      <use x=\"402.197266\" xlink:href=\"#DejaVuSans-74\"/>\r\n      <use x=\"441.40625\" xlink:href=\"#DejaVuSans-7a\"/>\r\n     </g>\r\n    </g>\r\n   </g>\r\n  </g>\r\n </g>\r\n <defs>\r\n  <clipPath id=\"p5fe85b2ef0\">\r\n   <rect height=\"217.44\" width=\"334.8\" x=\"66.053125\" y=\"7.2\"/>\r\n  </clipPath>\r\n </defs>\r\n</svg>\r\n",
      "image/png": "[encoded data removed]"
     },
     "metadata": {
      "needs_background": "light"
     }
    }
   ],
   "source": [
    "tt= np.linspace(0,100,100)\n",
    "plt.plot(tt, logistic_model(tt,4.8,50,100000), c='b', label='Logisitc')\n",
    "plt.plot(tt, expo_model(tt, 0.23), c='g', label='Exponential')\n",
    "plt.plot(tt, gompertz_model(tt, 12, 49, 100000), c='r', label='Gompertz')\n",
    "plt.legend()\n",
    "plt.xlabel('Time')\n",
    "plt.ylabel('Cases')\n",
    "plt.ylim(-1000,150000)"
   ]
  },
  {
   "cell_type": "markdown",
   "metadata": {
    "id": "dCplnmTXkCMW"
   },
   "source": [
    "#Fitting the data to the models"
   ]
  },
  {
   "cell_type": "code",
   "execution_count": 9,
   "metadata": {
    "colab": {
     "base_uri": "https://localhost:8080/"
    },
    "id": "0NOZNOd_kDSm",
    "outputId": "175dbf6f-f078-4b5c-c80a-233633332ce0"
   },
   "outputs": [
    {
     "output_type": "stream",
     "name": "stdout",
     "text": [
      "----\nCountry:  China\nInitial number of cases:  nan\nCurrent number of cases:  nan\n----\nCountry:  France\nInitial number of cases:  nan\nCurrent number of cases:  nan\n----\nCountry:  Italy\nInitial number of cases:  nan\nCurrent number of cases:  nan\n----\nCountry:  Korea, South\nInitial number of cases:  nan\nCurrent number of cases:  nan\n----\nCountry:  US\nInitial number of cases:  nan\nCurrent number of cases:  nan\n"
     ]
    }
   ],
   "source": [
    "leaveout = -1\n",
    "\n",
    "for country in countries_list:\n",
    "    print('----')\n",
    "    print('Country: ', country)\n",
    "    if leaveout==0:\n",
    "      leaveout=None\n",
    "    #filter = corona_cases_df.iso_code.str.contains(country)\n",
    "    #country_data = corona_cases_df[filter]\n",
    "\n",
    "    x = np.array(list(df_dict[country]['DayCount'].values))[0:leaveout]  ##remove last data point to make prediction\n",
    "    y = np.array(list(df_dict[country]['Cases'].values))[0:leaveout]    ##remove last data point to make prediction\n",
    "\n",
    "    y0 = y[0]\n",
    "    yf = y[-1]\n",
    "    print(\"Initial number of cases: \", y0)\n",
    "    print(\"Current number of cases: \", yf)"
   ]
  },
  {
   "cell_type": "markdown",
   "metadata": {
    "id": "DlTTyoLnDFtO"
   },
   "source": [
    "Fit model to data, by choosing appropriate initial values p0"
   ]
  },
  {
   "cell_type": "code",
   "execution_count": 10,
   "metadata": {
    "colab": {
     "base_uri": "https://localhost:8080/"
    },
    "id": "ZBAUXEJutkvn",
    "outputId": "5e9b9a65-9086-4bab-f0b9-9a7b9defc345"
   },
   "outputs": [
    {
     "output_type": "stream",
     "name": "stdout",
     "text": [
      ">>> Logistic Model\n"
     ]
    },
    {
     "output_type": "error",
     "ename": "ValueError",
     "evalue": "array must not contain infs or NaNs",
     "traceback": [
      "\u001b[1;31m---------------------------------------------------------------------------\u001b[0m",
      "\u001b[1;31mValueError\u001b[0m                                Traceback (most recent call last)",
      "\u001b[1;32m<ipython-input-10-a6478a0dd23a>\u001b[0m in \u001b[0;36m<module>\u001b[1;34m\u001b[0m\n\u001b[0;32m      1\u001b[0m \u001b[0mprint\u001b[0m\u001b[1;33m(\u001b[0m\u001b[1;34m'>>> Logistic Model'\u001b[0m\u001b[1;33m)\u001b[0m\u001b[1;33m\u001b[0m\u001b[1;33m\u001b[0m\u001b[0m\n\u001b[1;32m----> 2\u001b[1;33m \u001b[0mfit_i\u001b[0m \u001b[1;33m=\u001b[0m \u001b[0mcurve_fit\u001b[0m\u001b[1;33m(\u001b[0m\u001b[0mlogistic_model\u001b[0m\u001b[1;33m,\u001b[0m\u001b[0mx\u001b[0m\u001b[1;33m,\u001b[0m\u001b[0my\u001b[0m\u001b[1;33m,\u001b[0m\u001b[0mp0\u001b[0m\u001b[1;33m=\u001b[0m\u001b[1;33m[\u001b[0m\u001b[1;36m3\u001b[0m\u001b[1;33m,\u001b[0m\u001b[1;36m20\u001b[0m\u001b[1;33m,\u001b[0m\u001b[1;36m5000\u001b[0m\u001b[1;33m]\u001b[0m\u001b[1;33m,\u001b[0m \u001b[0mmaxfev\u001b[0m\u001b[1;33m=\u001b[0m\u001b[1;36m10000\u001b[0m\u001b[1;33m)\u001b[0m\u001b[1;31m#, bounds=([0,0,0],[10,100,150000]))\u001b[0m\u001b[1;33m\u001b[0m\u001b[1;33m\u001b[0m\u001b[0m\n\u001b[0m\u001b[0;32m      3\u001b[0m \u001b[0mai\u001b[0m\u001b[1;33m,\u001b[0m\u001b[0mbi\u001b[0m\u001b[1;33m,\u001b[0m\u001b[0mci\u001b[0m \u001b[1;33m=\u001b[0m \u001b[0mfit_i\u001b[0m\u001b[1;33m[\u001b[0m\u001b[1;36m0\u001b[0m\u001b[1;33m]\u001b[0m\u001b[1;33m\u001b[0m\u001b[1;33m\u001b[0m\u001b[0m\n\u001b[0;32m      4\u001b[0m \u001b[0msigma_ai\u001b[0m\u001b[1;33m,\u001b[0m \u001b[0msigma_bi\u001b[0m\u001b[1;33m,\u001b[0m \u001b[0msigma_ci\u001b[0m \u001b[1;33m=\u001b[0m \u001b[0mnp\u001b[0m\u001b[1;33m.\u001b[0m\u001b[0msqrt\u001b[0m\u001b[1;33m(\u001b[0m\u001b[0mnp\u001b[0m\u001b[1;33m.\u001b[0m\u001b[0mdiag\u001b[0m\u001b[1;33m(\u001b[0m\u001b[0mfit_i\u001b[0m\u001b[1;33m[\u001b[0m\u001b[1;36m1\u001b[0m\u001b[1;33m]\u001b[0m\u001b[1;33m)\u001b[0m\u001b[1;33m)\u001b[0m\u001b[1;33m\u001b[0m\u001b[1;33m\u001b[0m\u001b[0m\n\u001b[0;32m      5\u001b[0m \u001b[0mc_pars\u001b[0m \u001b[1;33m=\u001b[0m \u001b[1;33m{\u001b[0m\u001b[1;33m}\u001b[0m\u001b[1;33m\u001b[0m\u001b[1;33m\u001b[0m\u001b[0m\n",
      "\u001b[1;32mC:\\Program Files\\Python38\\lib\\site-packages\\scipy\\optimize\\minpack.py\u001b[0m in \u001b[0;36mcurve_fit\u001b[1;34m(f, xdata, ydata, p0, sigma, absolute_sigma, check_finite, bounds, method, jac, **kwargs)\u001b[0m\n\u001b[0;32m    732\u001b[0m     \u001b[1;31m# NaNs cannot be handled\u001b[0m\u001b[1;33m\u001b[0m\u001b[1;33m\u001b[0m\u001b[1;33m\u001b[0m\u001b[0m\n\u001b[0;32m    733\u001b[0m     \u001b[1;32mif\u001b[0m \u001b[0mcheck_finite\u001b[0m\u001b[1;33m:\u001b[0m\u001b[1;33m\u001b[0m\u001b[1;33m\u001b[0m\u001b[0m\n\u001b[1;32m--> 734\u001b[1;33m         \u001b[0mydata\u001b[0m \u001b[1;33m=\u001b[0m \u001b[0mnp\u001b[0m\u001b[1;33m.\u001b[0m\u001b[0masarray_chkfinite\u001b[0m\u001b[1;33m(\u001b[0m\u001b[0mydata\u001b[0m\u001b[1;33m,\u001b[0m \u001b[0mfloat\u001b[0m\u001b[1;33m)\u001b[0m\u001b[1;33m\u001b[0m\u001b[1;33m\u001b[0m\u001b[0m\n\u001b[0m\u001b[0;32m    735\u001b[0m     \u001b[1;32melse\u001b[0m\u001b[1;33m:\u001b[0m\u001b[1;33m\u001b[0m\u001b[1;33m\u001b[0m\u001b[0m\n\u001b[0;32m    736\u001b[0m         \u001b[0mydata\u001b[0m \u001b[1;33m=\u001b[0m \u001b[0mnp\u001b[0m\u001b[1;33m.\u001b[0m\u001b[0masarray\u001b[0m\u001b[1;33m(\u001b[0m\u001b[0mydata\u001b[0m\u001b[1;33m,\u001b[0m \u001b[0mfloat\u001b[0m\u001b[1;33m)\u001b[0m\u001b[1;33m\u001b[0m\u001b[1;33m\u001b[0m\u001b[0m\n",
      "\u001b[1;32mC:\\Program Files\\Python38\\lib\\site-packages\\numpy\\lib\\function_base.py\u001b[0m in \u001b[0;36masarray_chkfinite\u001b[1;34m(a, dtype, order)\u001b[0m\n\u001b[0;32m    486\u001b[0m     \u001b[0ma\u001b[0m \u001b[1;33m=\u001b[0m \u001b[0masarray\u001b[0m\u001b[1;33m(\u001b[0m\u001b[0ma\u001b[0m\u001b[1;33m,\u001b[0m \u001b[0mdtype\u001b[0m\u001b[1;33m=\u001b[0m\u001b[0mdtype\u001b[0m\u001b[1;33m,\u001b[0m \u001b[0morder\u001b[0m\u001b[1;33m=\u001b[0m\u001b[0morder\u001b[0m\u001b[1;33m)\u001b[0m\u001b[1;33m\u001b[0m\u001b[1;33m\u001b[0m\u001b[0m\n\u001b[0;32m    487\u001b[0m     \u001b[1;32mif\u001b[0m \u001b[0ma\u001b[0m\u001b[1;33m.\u001b[0m\u001b[0mdtype\u001b[0m\u001b[1;33m.\u001b[0m\u001b[0mchar\u001b[0m \u001b[1;32min\u001b[0m \u001b[0mtypecodes\u001b[0m\u001b[1;33m[\u001b[0m\u001b[1;34m'AllFloat'\u001b[0m\u001b[1;33m]\u001b[0m \u001b[1;32mand\u001b[0m \u001b[1;32mnot\u001b[0m \u001b[0mnp\u001b[0m\u001b[1;33m.\u001b[0m\u001b[0misfinite\u001b[0m\u001b[1;33m(\u001b[0m\u001b[0ma\u001b[0m\u001b[1;33m)\u001b[0m\u001b[1;33m.\u001b[0m\u001b[0mall\u001b[0m\u001b[1;33m(\u001b[0m\u001b[1;33m)\u001b[0m\u001b[1;33m:\u001b[0m\u001b[1;33m\u001b[0m\u001b[1;33m\u001b[0m\u001b[0m\n\u001b[1;32m--> 488\u001b[1;33m         raise ValueError(\n\u001b[0m\u001b[0;32m    489\u001b[0m             \"array must not contain infs or NaNs\")\n\u001b[0;32m    490\u001b[0m     \u001b[1;32mreturn\u001b[0m \u001b[0ma\u001b[0m\u001b[1;33m\u001b[0m\u001b[1;33m\u001b[0m\u001b[0m\n",
      "\u001b[1;31mValueError\u001b[0m: array must not contain infs or NaNs"
     ]
    }
   ],
   "source": [
    "    print('>>> Logistic Model')\n",
    "    fit_i = curve_fit(logistic_model,x,y,p0=[3,20,5000], maxfev=10000)#, bounds=([0,0,0],[10,100,150000]))\n",
    "    ai,bi,ci = fit_i[0]\n",
    "    sigma_ai, sigma_bi, sigma_ci = np.sqrt(np.diag(fit_i[1]))\n",
    "    c_pars = {}\n",
    "    c_pars[(country,'Logistic','a')] = ai\n",
    "    c_pars[(country,'Logistic','b')] = bi\n",
    "    c_pars[(country,'Logistic','c')] = ci\n",
    "    c_pars[(country,'Logistic','sga')] = sigma_ai\n",
    "    c_pars[(country,'Logistic','sgb')] = sigma_bi\n",
    "    c_pars[(country,'Logistic','sgc')] = sigma_ci\n",
    "    print([ss+'='+'{:.3f}'.format(xx) for ss, xx in zip(('a','b','c'),\n",
    "                                                        (ai,bi,ci))])\n",
    "    print([ss+'='+'{:.3f}'.format(xx) for ss, xx in zip(('sigma_a','sigma_b','sigma_c'),\n",
    "                                                        (sigma_ai,sigma_bi,sigma_ci))])"
   ]
  },
  {
   "cell_type": "markdown",
   "metadata": {
    "id": "BRX7sed4DK5R"
   },
   "source": [
    "#Predection\n",
    "Calculating goodness of fit and asymtpote date"
   ]
  },
  {
   "cell_type": "code",
   "execution_count": null,
   "metadata": {
    "colab": {
     "base_uri": "https://localhost:8080/",
     "height": 232
    },
    "id": "xV9SurigQa2Y",
    "outputId": "2b2dada5-f210-49b6-be03-ed9bc2e16c59"
   },
   "outputs": [],
   "source": [
    "y_pred = logistic_model(x,ai,bi,ci)\n",
    "MSLE=sklm.mean_squared_log_error(y,y_pred)\n",
    "print(\"Mean squared log error (MSLE): \", '{:.3f}'.format(MSLE))\n",
    "print(\"Exp of RMSLE: \", '{:.3f}'.format(np.exp(np.sqrt(MSLE))))\n",
    "print(\"R2 score: \", '{:.3f}'.format(sklm.r2_score(y,y_pred)))\n",
    "\n",
    "perc_flat = 0.98\n",
    "sol = int(fsolve(lambda x : logistic_model(x,ai,bi,ci) - perc_flat*int(ci), bi))\n",
    "print('Day of flattening of the infection curve')\n",
    "datesol = datetime.strftime(df_dict[country].index[0] + timedelta(days=sol), ' %d, %b %Y' )\n",
    "print('-->'+datesol)\n",
    "c_pars[(country,'Logistic','c_time')] = sol"
   ]
  },
  {
   "cell_type": "markdown",
   "metadata": {
    "id": "Boua6OQxR03M"
   },
   "source": [
    "# Computing some predictions"
   ]
  },
  {
   "cell_type": "markdown",
   "metadata": {
    "id": "BwegwKE75XTv"
   },
   "source": [
    "Calculate predictions for the last day"
   ]
  },
  {
   "cell_type": "code",
   "execution_count": null,
   "metadata": {
    "id": "OQ_FId5gR33F"
   },
   "outputs": [],
   "source": [
    "chosenmodel='Logistic'\n",
    "\n",
    "if chosenmodel==\"Logistic\":\n",
    "    print(\"Chosen Model: \", chosenmodel)\n",
    "    reg_model = logistic_model\n",
    "elif chosenmodel=='Gompertz':\n",
    "    print(\"Chosen Model: \", chosenmodel)\n",
    "    reg_model = gompertz_model\n",
    "\n",
    "\n",
    "for country in countries_list:\n",
    "  print(\"\\n ***Country: \"+str(country))\n",
    "  x = np.array(list(df_dict[country]['DayCount'].values))\n",
    "  print(\"Used data, Day Count: \", x[-1+leaveout])\n",
    "  print(\"Used data, Last day date: \", datetime.strftime(df_dict[country].index[-1+leaveout], ' %d, %b %Y' ))\n",
    "  y = np.array(list(df_dict[country]['Cases'].values))\n",
    "  print(\"Used data, Number of cases: \"+casestr+\" in the last day: \", y[-1+leaveout])\n",
    "  print(\"---\")\n",
    "  pred_days = 0\n",
    "  day = x[-1]+pred_days\n",
    "  pred_date = datetime.strftime(df_dict[country].index[-1] + timedelta(days=pred_days), ' %d, %b %Y' )\n",
    "  print(\"Prediction for: \", pred_date)\n",
    "  \n",
    "  realdat = y[-1]\n",
    "\n",
    "\n",
    "  a,b,c = (c_pars[(country,chosenmodel,par)] for par in ['a','b','c'])\n",
    "  sigma_a,sigma_b,sigma_c = (c_pars[(country,chosenmodel,par)] for par in ['sga','sgb','sgc'])\n",
    "\n",
    "  prediction = reg_model(day,a,b,c)\n",
    "  pluspred = np.abs(reg_model(day,np.abs(a+sigma_a),np.abs(b+sigma_b),np.abs(c+sigma_c)))\n",
    "  minuspred = np.abs(reg_model(day,np.abs(a-sigma_a),np.abs(b-sigma_b),np.abs(c-sigma_c)))\n",
    "\n",
    "  print(\"Prediction from \"+chosenmodel+\" Model : \", frm(prediction), ' ( +'+frm(pluspred-prediction)+', -'+frm(prediction-minuspred)+')')\n",
    "\n",
    "  print(\"Real data: \", frm(realdat))\n",
    "  prediction_error_perc = 100*(prediction-realdat)/realdat\n",
    "  print(\"Prediction Percentage error: \", '{:2f}'.format(prediction_error_perc), '%')"
   ]
  },
  {
   "cell_type": "markdown",
   "metadata": {
    "id": "MAf1WCLD5koK"
   },
   "source": [
    "Choosing the colormap"
   ]
  },
  {
   "cell_type": "code",
   "execution_count": null,
   "metadata": {
    "id": "HDwAkuWD5lRm"
   },
   "outputs": [],
   "source": [
    "color_list = plt.cm.Set1( np.linspace(0.,1.0, 9 ) )\n",
    "color_iter = iter(color_list)\n",
    "...\n",
    "...\n",
    "col=next(color_iter)"
   ]
  },
  {
   "cell_type": "markdown",
   "metadata": {
    "id": "6mhM_lUH5u3f"
   },
   "source": [
    "Creating the date range for the plot"
   ]
  },
  {
   "cell_type": "code",
   "execution_count": null,
   "metadata": {
    "id": "0jDH8uJ65vpo"
   },
   "outputs": [],
   "source": [
    "#getting the saved asymptote\n",
    "flatasymp = max([c_pars[(country,chosen_plotmodel,'c_time')] for country in countries_list])+1\n",
    "\n",
    "#finding the minimum date, namely date of first case among chosen countries\n",
    "mindate = min([df_dict[country].index[0] for country in countries_list])\n",
    "\n",
    "#creating a date range for the plot for each country\n",
    "pred_date = pd.date_range(start=df_dict[country].index[0], periods=flatasymp).values\n",
    "\n",
    "# using the mindate - 3days and the last predicted date + 3days for the x-limits of the plot\n",
    "ax.set_xlim([mindate-np.timedelta64(3,'D'), pred_date[-1]+np.timedelta64(3,'D')])"
   ]
  },
  {
   "cell_type": "markdown",
   "metadata": {
    "id": "hktPWOas50wc"
   },
   "source": [
    "Plotting the data, the mean of the models and their confidence contours"
   ]
  },
  {
   "cell_type": "code",
   "execution_count": null,
   "metadata": {
    "id": "y1gIi5xK515E"
   },
   "outputs": [],
   "source": [
    "ax.scatter(df_dict[country].index ,y ,label=country,color=col)# Predicted logistic curve\n",
    "\n",
    "ax.plot(pred_date, mean, \n",
    "        label=chosen_plotmodel+\" model\", color=col)  #Predicted Logistic Curve\n",
    "\n",
    "ax.fill_between(pred_date, upper_lim, lower_lim, color=col, alpha=0.4)\n",
    "\n",
    "ax.plot(pred_date, [expo_model(i,p, N0=y0) for i in pred_x], '--', \n",
    "        label=\"Exponential model\", color=col)"
   ]
  }
 ],
 "metadata": {
  "colab": {
   "authorship_tag": "ABX9TyNiVD5UvTcUwXVlzMGLHwDY",
   "collapsed_sections": [],
   "include_colab_link": true,
   "name": "gompertz.ipynb",
   "provenance": []
  },
  "kernelspec": {
   "name": "python386jvsc74a57bd01baa965d5efe3ac65b79dfc60c0d706280b1da80fedb7760faf2759126c4f253",
   "display_name": "Python 3.8.6 64-bit"
  },
  "language_info": {
   "codemirror_mode": {
    "name": "ipython",
    "version": 3
   },
   "file_extension": ".py",
   "mimetype": "text/x-python",
   "name": "python",
   "nbconvert_exporter": "python",
   "pygments_lexer": "ipython3",
   "version": "3.8.6-final"
  },
  "metadata": {
   "interpreter": {
    "hash": "1baa965d5efe3ac65b79dfc60c0d706280b1da80fedb7760faf2759126c4f253"
   }
  }
 },
 "nbformat": 4,
 "nbformat_minor": 1
}