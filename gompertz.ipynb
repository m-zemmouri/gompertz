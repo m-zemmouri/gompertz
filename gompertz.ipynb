{
  "nbformat": 4,
  "nbformat_minor": 0,
  "metadata": {
    "colab": {
      "name": "gompertz.ipynb",
      "provenance": [],
      "collapsed_sections": [],
      "authorship_tag": "ABX9TyNiVD5UvTcUwXVlzMGLHwDY",
      "include_colab_link": true
    },
    "kernelspec": {
      "name": "python3",
      "display_name": "Python 3"
    },
    "language_info": {
      "name": "python"
    }
  },
  "cells": [
    {
      "cell_type": "markdown",
      "metadata": {
        "id": "view-in-github",
        "colab_type": "text"
      },
      "source": [
        "<a href=\"https://colab.research.google.com/github/zemimoh/gompertz/blob/main/gompertz.ipynb\" target=\"_parent\"><img src=\"https://colab.research.google.com/assets/colab-badge.svg\" alt=\"Open In Colab\"/></a>"
      ]
    },
    {
      "cell_type": "markdown",
      "metadata": {
        "id": "UpeNVjrCdXXq"
      },
      "source": [
        "#Import Section\n",
        "Import packages\n"
      ]
    },
    {
      "cell_type": "code",
      "metadata": {
        "id": "aXwZaLdOdSnm"
      },
      "source": [
        "import numpy as np\n",
        "import pandas as pd\n",
        "import matplotlib.pyplot as plt\n",
        "from pandas.plotting import register_matplotlib_converters \n",
        "##needed to properly use datetime in plots\n",
        "register_matplotlib_converters()  \n",
        "from datetime import datetime,timedelta\n",
        "from sklearn.metrics import mean_squared_error\n",
        "from scipy.optimize import curve_fit\n",
        "from scipy.optimize import fsolve"
      ],
      "execution_count": 14,
      "outputs": []
    },
    {
      "cell_type": "markdown",
      "metadata": {
        "id": "_SaXCKoVdyqi"
      },
      "source": [
        "#Load Data\n",
        "Define URL of data source and import data into Pandas"
      ]
    },
    {
      "cell_type": "code",
      "metadata": {
        "colab": {
          "base_uri": "https://localhost:8080/"
        },
        "id": "dnLqIJYud0jb",
        "outputId": "a45d0664-eaa6-4652-b02c-4cf16e213c5f"
      },
      "source": [
        "giturl_confirmed = 'https://raw.githubusercontent.com/CSSEGISandData/COVID-19/c6398b144172293cc21b9ef2f9c6f95d96e7e1ed/csse_covid_19_data/csse_covid_19_time_series/time_series_covid19_confirmed_global.csv'\n",
        "giturl_deaths = 'https://raw.githubusercontent.com/CSSEGISandData/COVID-19/master/csse_covid_19_data/csse_covid_19_time_series/time_series_covid19_deaths_global.csv'\n",
        "giturl_recovered = 'https://raw.githubusercontent.com/CSSEGISandData/COVID-19/master/csse_covid_19_data/csse_covid_19_time_series/time_series_covid19_recovered_global.csv'\n",
        "\n",
        "casestr='Confirmed'   #'Confirmed' #'Recovered', 'Deaths'\n",
        "chosen_plotmodel = 'Logistic'  #'Logistc'\n",
        "\n",
        "if casestr=='Confirmed':\n",
        "    curl = giturl_confirmed\n",
        "elif casestr=='Deaths':\n",
        "    curl = giturl_deaths\n",
        "elif casestr=='Recovered':\n",
        "    curl = giturl_recovered\n",
        "    \n",
        "corona_cases_df=pd.read_csv(curl, index_col=[0,1,2,3])\n",
        "#   use first four columns as multiindex\n",
        "corona_cases_df.columns.values"
      ],
      "execution_count": 15,
      "outputs": [
        {
          "output_type": "execute_result",
          "data": {
            "text/plain": [
              "array(['1/22/20', '1/23/20', '1/24/20', '1/25/20', '1/26/20', '1/27/20',\n",
              "       '1/28/20', '1/29/20', '1/30/20', '1/31/20', '2/1/20', '2/2/20',\n",
              "       '2/3/20', '2/4/20', '2/5/20', '2/6/20', '2/7/20', '2/8/20',\n",
              "       '2/9/20', '2/10/20', '2/11/20', '2/12/20', '2/13/20', '2/14/20',\n",
              "       '2/15/20', '2/16/20', '2/17/20', '2/18/20', '2/19/20', '2/20/20',\n",
              "       '2/21/20', '2/22/20', '2/23/20', '2/24/20', '2/25/20', '2/26/20',\n",
              "       '2/27/20', '2/28/20', '2/29/20', '3/1/20', '3/2/20', '3/3/20',\n",
              "       '3/4/20', '3/5/20', '3/6/20', '3/7/20', '3/8/20', '3/9/20',\n",
              "       '3/10/20', '3/11/20', '3/12/20', '3/13/20', '3/14/20', '3/15/20',\n",
              "       '3/16/20', '3/17/20', '3/18/20', '3/19/20', '3/20/20', '3/21/20',\n",
              "       '3/22/20', '3/23/20', '3/24/20', '3/25/20', '3/26/20', '3/27/20',\n",
              "       '3/28/20', '3/29/20', '3/30/20', '3/31/20', '4/1/20', '4/2/20',\n",
              "       '4/3/20', '4/4/20', '4/5/20', '4/6/20', '4/7/20', '4/8/20',\n",
              "       '4/9/20', '4/10/20', '4/11/20', '4/12/20', '4/13/20', '4/14/20',\n",
              "       '4/15/20', '4/16/20', '4/17/20', '4/18/20', '4/19/20', '4/20/20',\n",
              "       '4/21/20', '4/22/20', '4/23/20', '4/24/20', '4/25/20', '4/26/20',\n",
              "       '4/27/20', '4/28/20', '4/29/20', '4/30/20', '5/1/20', '5/2/20',\n",
              "       '5/3/20', '5/4/20', '5/5/20', '5/6/20', '5/7/20', '5/8/20',\n",
              "       '5/9/20', '5/10/20', '5/11/20', '5/12/20', '5/13/20', '5/14/20',\n",
              "       '5/15/20', '5/16/20', '5/17/20', '5/18/20', '5/19/20', '5/20/20',\n",
              "       '5/21/20', '5/22/20', '5/23/20', '5/24/20', '5/25/20', '5/26/20',\n",
              "       '5/27/20', '5/28/20', '5/29/20', '5/30/20', '5/31/20', '6/1/20',\n",
              "       '6/2/20', '6/3/20', '6/4/20', '6/5/20', '6/6/20', '6/7/20',\n",
              "       '6/8/20', '6/9/20', '6/10/20', '6/11/20', '6/12/20', '6/13/20',\n",
              "       '6/14/20', '6/15/20', '6/16/20', '6/17/20', '6/18/20', '6/19/20',\n",
              "       '6/20/20', '6/21/20', '6/22/20', '6/23/20', '6/24/20', '6/25/20',\n",
              "       '6/26/20', '6/27/20', '6/28/20', '6/29/20', '6/30/20', '7/1/20',\n",
              "       '7/2/20', '7/3/20', '7/4/20', '7/5/20', '7/6/20', '7/7/20',\n",
              "       '7/8/20', '7/9/20', '7/10/20', '7/11/20', '7/12/20', '7/13/20',\n",
              "       '7/14/20', '7/15/20', '7/16/20', '7/17/20', '7/18/20', '7/19/20',\n",
              "       '7/20/20', '7/21/20', '7/22/20', '7/23/20', '7/24/20', '7/25/20',\n",
              "       '7/26/20', '7/27/20', '7/28/20', '7/29/20', '7/30/20', '7/31/20',\n",
              "       '8/1/20', '8/2/20', '8/3/20', '8/4/20', '8/5/20', '8/6/20',\n",
              "       '8/7/20', '8/8/20', '8/9/20', '8/10/20', '8/11/20', '8/12/20',\n",
              "       '8/13/20', '8/14/20', '8/15/20', '8/16/20', '8/17/20', '8/18/20',\n",
              "       '8/19/20', '8/20/20', '8/21/20', '8/22/20', '8/23/20', '8/24/20',\n",
              "       '8/25/20', '8/26/20', '8/27/20', '8/28/20', '8/29/20', '8/30/20',\n",
              "       '8/31/20', '9/1/20', '9/2/20', '9/3/20', '9/4/20', '9/5/20',\n",
              "       '9/6/20', '9/7/20', '9/8/20', '9/9/20', '9/10/20', '9/11/20',\n",
              "       '9/12/20', '9/13/20', '9/14/20', '9/15/20', '9/16/20', '9/17/20',\n",
              "       '9/18/20', '9/19/20', '9/20/20', '9/21/20', '9/22/20', '9/23/20',\n",
              "       '9/24/20', '9/25/20', '9/26/20', '9/27/20', '9/28/20', '9/29/20',\n",
              "       '9/30/20', '10/1/20', '10/2/20', '10/3/20', '10/4/20', '10/5/20',\n",
              "       '10/6/20', '10/7/20', '10/8/20', '10/9/20', '10/10/20', '10/11/20',\n",
              "       '10/12/20', '10/13/20', '10/14/20', '10/15/20', '10/16/20',\n",
              "       '10/17/20', '10/18/20', '10/19/20', '10/20/20', '10/21/20',\n",
              "       '10/22/20', '10/23/20', '10/24/20', '10/25/20', '10/26/20',\n",
              "       '10/27/20', '10/28/20', '10/29/20', '10/30/20', '10/31/20',\n",
              "       '11/1/20', '11/2/20', '11/3/20', '11/4/20', '11/5/20', '11/6/20',\n",
              "       '11/7/20', '11/8/20', '11/9/20', '11/10/20', '11/11/20',\n",
              "       '11/12/20', '11/13/20', '11/14/20', '11/15/20', '11/16/20',\n",
              "       '11/17/20', '11/18/20', '11/19/20', '11/20/20', '11/21/20',\n",
              "       '11/22/20', '11/23/20', '11/24/20', '11/25/20', '11/26/20',\n",
              "       '11/27/20', '11/28/20', '11/29/20', '11/30/20', '12/1/20',\n",
              "       '12/2/20', '12/3/20', '12/4/20', '12/5/20', '12/6/20', '12/7/20',\n",
              "       '12/8/20', '12/9/20', '12/10/20', '12/11/20', '12/12/20',\n",
              "       '12/13/20', '12/14/20', '12/15/20', '12/16/20', '12/17/20',\n",
              "       '12/18/20', '12/19/20', '12/20/20', '12/21/20', '12/22/20',\n",
              "       '12/23/20', '12/24/20', '12/25/20', '12/26/20', '12/27/20',\n",
              "       '12/28/20', '12/29/20', '12/30/20', '12/31/20', '1/1/21', '1/2/21',\n",
              "       '1/3/21', '1/4/21', '1/5/21', '1/6/21', '1/7/21', '1/8/21',\n",
              "       '1/9/21', '1/10/21', '1/11/21', '1/12/21', '1/13/21', '1/14/21',\n",
              "       '1/15/21', '1/16/21', '1/17/21', '1/18/21', '1/19/21', '1/20/21',\n",
              "       '1/21/21', '1/22/21', '1/23/21', '1/24/21', '1/25/21', '1/26/21',\n",
              "       '1/27/21', '1/28/21', '1/29/21', '1/30/21', '1/31/21', '2/1/21',\n",
              "       '2/2/21', '2/3/21', '2/4/21', '2/5/21', '2/6/21', '2/7/21',\n",
              "       '2/8/21', '2/9/21', '2/10/21', '2/11/21', '2/12/21', '2/13/21',\n",
              "       '2/14/21', '2/15/21', '2/16/21', '2/17/21', '2/18/21', '2/19/21',\n",
              "       '2/20/21', '2/21/21', '2/22/21', '2/23/21', '2/24/21', '2/25/21',\n",
              "       '2/26/21', '2/27/21', '2/28/21', '3/1/21', '3/2/21', '3/3/21',\n",
              "       '3/4/21', '3/5/21', '3/6/21', '3/7/21', '3/8/21', '3/9/21',\n",
              "       '3/10/21', '3/11/21', '3/12/21', '3/13/21', '3/14/21', '3/15/21',\n",
              "       '3/16/21', '3/17/21', '3/18/21', '3/19/21', '3/20/21', '3/21/21',\n",
              "       '3/22/21', '3/23/21', '3/24/21', '3/25/21', '3/26/21', '3/27/21',\n",
              "       '3/28/21', '3/29/21', '3/30/21', '3/31/21', '4/1/21', '4/2/21',\n",
              "       '4/3/21', '4/4/21', '4/5/21', '4/6/21', '4/7/21'], dtype=object)"
            ]
          },
          "metadata": {
            "tags": []
          },
          "execution_count": 15
        }
      ]
    },
    {
      "cell_type": "markdown",
      "metadata": {
        "id": "uiQGfHSLKBYw"
      },
      "source": [
        "Format date strings using datetime"
      ]
    },
    {
      "cell_type": "code",
      "metadata": {
        "colab": {
          "base_uri": "https://localhost:8080/"
        },
        "id": "J_snwj3BKDj1",
        "outputId": "00d611ce-b505-46bb-b615-7a11d6513ad0"
      },
      "source": [
        "datesformatted = [datetime.strptime(da, '%m/%d/%y') \n",
        "                  for da in corona_cases_df.columns.values]\n",
        "\n",
        "daterange = pd.DatetimeIndex(datesformatted)\n",
        "daterange"
      ],
      "execution_count": 16,
      "outputs": [
        {
          "output_type": "execute_result",
          "data": {
            "text/plain": [
              "DatetimeIndex(['2020-01-22', '2020-01-23', '2020-01-24', '2020-01-25',\n",
              "               '2020-01-26', '2020-01-27', '2020-01-28', '2020-01-29',\n",
              "               '2020-01-30', '2020-01-31',\n",
              "               ...\n",
              "               '2021-03-29', '2021-03-30', '2021-03-31', '2021-04-01',\n",
              "               '2021-04-02', '2021-04-03', '2021-04-04', '2021-04-05',\n",
              "               '2021-04-06', '2021-04-07'],\n",
              "              dtype='datetime64[ns]', length=442, freq=None)"
            ]
          },
          "metadata": {
            "tags": []
          },
          "execution_count": 16
        }
      ]
    },
    {
      "cell_type": "markdown",
      "metadata": {
        "id": "I9D53vWFoAPY"
      },
      "source": [
        "#Creating a new DataFrame of aggregated data\n",
        "Extracting wanted countries"
      ]
    },
    {
      "cell_type": "code",
      "metadata": {
        "colab": {
          "base_uri": "https://localhost:8080/"
        },
        "id": "kp1iYPyoOZqV",
        "outputId": "16e185bb-0e09-409f-e05c-84a08c6604fa"
      },
      "source": [
        "country_official_list = (corona_cases_df.index.get_level_values('Country/Region').values)\n",
        "\n",
        "wanted_countries = ['China', 'Korea','Italy', 'France', 'US']\n",
        "\n",
        "countries_list = [np.unique(np.array([s for s in country_official_list if cou in s])) \n",
        "                                                 for cou in wanted_countries]\n",
        "countries_list = np.array(countries_list).flatten()\n",
        "countries_list.sort()\n",
        "countries_list"
      ],
      "execution_count": 17,
      "outputs": [
        {
          "output_type": "execute_result",
          "data": {
            "text/plain": [
              "array(['China', 'France', 'Italy', 'Korea, South', 'US'], dtype='<U12')"
            ]
          },
          "metadata": {
            "tags": []
          },
          "execution_count": 17
        }
      ]
    },
    {
      "cell_type": "code",
      "metadata": {
        "colab": {
          "base_uri": "https://localhost:8080/"
        },
        "id": "jF4Knz0VoBiP",
        "outputId": "df29c6d6-21d0-4cf1-f204-6548dddb8a74"
      },
      "source": [
        "cases_percountry = {}\n",
        "df_dict = {}\n",
        "for country in countries_list:\n",
        "    cou = corona_cases_df.loc[pd.IndexSlice[:, country], :].sum()\n",
        "    cases_percountry[country] = cou[cou > 0]\n",
        "    datesformat = [datetime.strptime(da, '%m/%d/%y') \n",
        "                   for da in cases_percountry[country].index]\n",
        "    \n",
        "    df_dict[country] = pd.DataFrame(cases_percountry[country], \n",
        "                                    columns=['Cases'], index=datesformat)\n",
        "    df_dict[country]['DayCount'] = np.arange(1, \n",
        "                                             cases_percountry[country].shape[0]+1)\n",
        "    \n",
        "    \n",
        "print(df_dict['Italy']['Cases'][::3])  #print cases every three days"
      ],
      "execution_count": 18,
      "outputs": [
        {
          "output_type": "stream",
          "text": [
            "2020-01-31          2\n",
            "2020-02-03          2\n",
            "2020-02-06          2\n",
            "2020-02-09          3\n",
            "2020-02-12          3\n",
            "               ...   \n",
            "2021-03-26    3488619\n",
            "2021-03-29    3544957\n",
            "2021-04-01    3607083\n",
            "2021-04-04    3668264\n",
            "2021-04-07    3700393\n",
            "Name: Cases, Length: 145, dtype: int64\n"
          ],
          "name": "stdout"
        }
      ]
    },
    {
      "cell_type": "markdown",
      "metadata": {
        "id": "dAmi3rRoCjKw"
      },
      "source": [
        "#Plotting the different country DataFrames\n",
        "Confirmed Coronavirus cases for the current data range"
      ]
    },
    {
      "cell_type": "code",
      "metadata": {
        "colab": {
          "base_uri": "https://localhost:8080/",
          "height": 385
        },
        "id": "uU6Hf99wvUyn",
        "outputId": "add22af0-08f8-4d61-acb9-de673a7f3abf"
      },
      "source": [
        "for country in countries_list:\n",
        "    print(country)\n",
        "    dates=df_dict[country].index\n",
        "    plt.semilogy(dates, np.array(list(df_dict[country]['Cases'].values)), label=country)\n",
        "    plt.legend(loc='lower right')\n",
        "    plt.tick_params(rotation=45, labelsize=12)\n",
        "    plt.ylabel(casestr, fontsize=14)\n",
        "plt.xlim([dates[0]-np.timedelta64(3,'D'), dates[-1]+np.timedelta64(10,'D')])\n",
        "plt.show()"
      ],
      "execution_count": 19,
      "outputs": [
        {
          "output_type": "stream",
          "text": [
            "China\n",
            "France\n",
            "Italy\n",
            "Korea, South\n",
            "US\n"
          ],
          "name": "stdout"
        },
        {
          "output_type": "display_data",
          "data": {
            "image/png": "[encoded data removed]",
            "text/plain": [
              "<Figure size 432x288 with 1 Axes>"
            ]
          },
          "metadata": {
            "tags": [],
            "needs_background": "light"
          }
        }
      ]
    },
    {
      "cell_type": "markdown",
      "metadata": {
        "id": "7nm1_NVwjsfX"
      },
      "source": [
        "#Predection Models\n",
        "Defining the Models"
      ]
    },
    {
      "cell_type": "code",
      "metadata": {
        "id": "IXbSvlBtjvwx"
      },
      "source": [
        "def expo_model(x,p,N0=3,x0=1):\n",
        "    return N0*(1+p)**(x-x0)\n",
        "\n",
        "def logistic_model(x,a,b,c):\n",
        "    return c/(1+np.exp(-(x-b)/a))\n",
        "\n",
        "def gompertz_model(x,a,b,c):\n",
        "    return c*np.exp(-b*np.exp(-x/a))"
      ],
      "execution_count": 20,
      "outputs": []
    },
    {
      "cell_type": "markdown",
      "metadata": {
        "id": "rQW3OVfeC3s4"
      },
      "source": [
        "Comparison of the three models considered in this work"
      ]
    },
    {
      "cell_type": "code",
      "metadata": {
        "colab": {
          "base_uri": "https://localhost:8080/",
          "height": 296
        },
        "id": "a6XIbEBKvax-",
        "outputId": "cd92dc9e-9047-4e9e-d1aa-cb129d5493ef"
      },
      "source": [
        "tt= np.linspace(0,100,100)\n",
        "plt.plot(tt, logistic_model(tt,4.8,50,100000), c='b', label='Logisitc')\n",
        "plt.plot(tt, expo_model(tt, 0.23), c='g', label='Exponential')\n",
        "plt.plot(tt, gompertz_model(tt, 12, 49, 100000), c='r', label='Gompertz')\n",
        "plt.legend()\n",
        "plt.xlabel('Time')\n",
        "plt.ylabel('Cases')\n",
        "plt.ylim(-1000,150000)"
      ],
      "execution_count": 21,
      "outputs": [
        {
          "output_type": "execute_result",
          "data": {
            "text/plain": [
              "(-1000.0, 150000.0)"
            ]
          },
          "metadata": {
            "tags": []
          },
          "execution_count": 21
        },
        {
          "output_type": "display_data",
          "data": {
            "image/png": "[encoded data removed]",
            "text/plain": [
              "<Figure size 432x288 with 1 Axes>"
            ]
          },
          "metadata": {
            "tags": [],
            "needs_background": "light"
          }
        }
      ]
    },
    {
      "cell_type": "markdown",
      "metadata": {
        "id": "dCplnmTXkCMW"
      },
      "source": [
        "#Fitting the data to the models"
      ]
    },
    {
      "cell_type": "code",
      "metadata": {
        "colab": {
          "base_uri": "https://localhost:8080/"
        },
        "id": "0NOZNOd_kDSm",
        "outputId": "175dbf6f-f078-4b5c-c80a-233633332ce0"
      },
      "source": [
        "leaveout = -1\n",
        "\n",
        "for country in countries_list:\n",
        "    print('----')\n",
        "    print('Country: ', country)\n",
        "    if leaveout==0:\n",
        "      leaveout=None\n",
        "    #filter = corona_cases_df.iso_code.str.contains(country)\n",
        "    #country_data = corona_cases_df[filter]\n",
        "\n",
        "    x = np.array(list(df_dict[country]['DayCount'].values))[0:leaveout]  ##remove last data point to make prediction\n",
        "    y = np.array(list(df_dict[country]['Cases'].values))[0:leaveout]    ##remove last data point to make prediction\n",
        "\n",
        "    y0 = y[0]\n",
        "    yf = y[-1]\n",
        "    print(\"Initial number of cases: \", y0)\n",
        "    print(\"Current number of cases: \", yf)"
      ],
      "execution_count": 22,
      "outputs": [
        {
          "output_type": "stream",
          "text": [
            "----\n",
            "Country:  China\n",
            "Initial number of cases:  548\n",
            "Current number of cases:  101920\n",
            "----\n",
            "Country:  France\n",
            "Initial number of cases:  2\n",
            "Current number of cases:  4902025\n",
            "----\n",
            "Country:  Italy\n",
            "Initial number of cases:  2\n",
            "Current number of cases:  3686707\n",
            "----\n",
            "Country:  Korea, South\n",
            "Initial number of cases:  1\n",
            "Current number of cases:  106898\n",
            "----\n",
            "Country:  US\n",
            "Initial number of cases:  1\n",
            "Current number of cases:  30847348\n"
          ],
          "name": "stdout"
        }
      ]
    },
    {
      "cell_type": "markdown",
      "metadata": {
        "id": "DlTTyoLnDFtO"
      },
      "source": [
        "Fit model to data, by choosing appropriate initial values p0"
      ]
    },
    {
      "cell_type": "code",
      "metadata": {
        "colab": {
          "base_uri": "https://localhost:8080/"
        },
        "id": "ZBAUXEJutkvn",
        "outputId": "5e9b9a65-9086-4bab-f0b9-9a7b9defc345"
      },
      "source": [
        "    print('>>> Logistic Model')\n",
        "    fit_i = curve_fit(logistic_model,x,y,p0=[3,20,5000], maxfev=10000)#, bounds=([0,0,0],[10,100,150000]))\n",
        "    ai,bi,ci = fit_i[0]\n",
        "    sigma_ai, sigma_bi, sigma_ci = np.sqrt(np.diag(fit_i[1]))\n",
        "    c_pars = {}\n",
        "    c_pars[(country,'Logistic','a')] = ai\n",
        "    c_pars[(country,'Logistic','b')] = bi\n",
        "    c_pars[(country,'Logistic','c')] = ci\n",
        "    c_pars[(country,'Logistic','sga')] = sigma_ai\n",
        "    c_pars[(country,'Logistic','sgb')] = sigma_bi\n",
        "    c_pars[(country,'Logistic','sgc')] = sigma_ci\n",
        "    print([ss+'='+'{:.3f}'.format(xx) for ss, xx in zip(('a','b','c'),\n",
        "                                                        (ai,bi,ci))])\n",
        "    print([ss+'='+'{:.3f}'.format(xx) for ss, xx in zip(('sigma_a','sigma_b','sigma_c'),\n",
        "                                                        (sigma_ai,sigma_bi,sigma_ci))])"
      ],
      "execution_count": 23,
      "outputs": [
        {
          "output_type": "stream",
          "text": [
            ">>> Logistic Model\n",
            "['a=63.972', 'b=346.323', 'c=39870296.138']\n",
            "['sigma_a=1.054', 'sigma_b=2.489', 'sigma_c=639818.542']\n"
          ],
          "name": "stdout"
        }
      ]
    },
    {
      "cell_type": "markdown",
      "metadata": {
        "id": "BRX7sed4DK5R"
      },
      "source": [
        "#Predection\n",
        "Calculating goodness of fit and asymtpote date"
      ]
    },
    {
      "cell_type": "code",
      "metadata": {
        "colab": {
          "base_uri": "https://localhost:8080/",
          "height": 232
        },
        "id": "xV9SurigQa2Y",
        "outputId": "2b2dada5-f210-49b6-be03-ed9bc2e16c59"
      },
      "source": [
        "y_pred = logistic_model(x,ai,bi,ci)\n",
        "MSLE=sklm.mean_squared_log_error(y,y_pred)\n",
        "print(\"Mean squared log error (MSLE): \", '{:.3f}'.format(MSLE))\n",
        "print(\"Exp of RMSLE: \", '{:.3f}'.format(np.exp(np.sqrt(MSLE))))\n",
        "print(\"R2 score: \", '{:.3f}'.format(sklm.r2_score(y,y_pred)))\n",
        "\n",
        "perc_flat = 0.98\n",
        "sol = int(fsolve(lambda x : logistic_model(x,ai,bi,ci) - perc_flat*int(ci), bi))\n",
        "print('Day of flattening of the infection curve')\n",
        "datesol = datetime.strftime(df_dict[country].index[0] + timedelta(days=sol), ' %d, %b %Y' )\n",
        "print('-->'+datesol)\n",
        "c_pars[(country,'Logistic','c_time')] = sol"
      ],
      "execution_count": 25,
      "outputs": [
        {
          "output_type": "error",
          "ename": "NameError",
          "evalue": "ignored",
          "traceback": [
            "\u001b[0;31m---------------------------------------------------------------------------\u001b[0m",
            "\u001b[0;31mNameError\u001b[0m                                 Traceback (most recent call last)",
            "\u001b[0;32m<ipython-input-25-ed4507136b5e>\u001b[0m in \u001b[0;36m<module>\u001b[0;34m()\u001b[0m\n\u001b[1;32m      1\u001b[0m \u001b[0my_pred\u001b[0m \u001b[0;34m=\u001b[0m \u001b[0mlogistic_model\u001b[0m\u001b[0;34m(\u001b[0m\u001b[0mx\u001b[0m\u001b[0;34m,\u001b[0m\u001b[0mai\u001b[0m\u001b[0;34m,\u001b[0m\u001b[0mbi\u001b[0m\u001b[0;34m,\u001b[0m\u001b[0mci\u001b[0m\u001b[0;34m)\u001b[0m\u001b[0;34m\u001b[0m\u001b[0;34m\u001b[0m\u001b[0m\n\u001b[0;32m----> 2\u001b[0;31m \u001b[0mMSLE\u001b[0m\u001b[0;34m=\u001b[0m\u001b[0msklm\u001b[0m\u001b[0;34m.\u001b[0m\u001b[0mmean_squared_log_error\u001b[0m\u001b[0;34m(\u001b[0m\u001b[0my\u001b[0m\u001b[0;34m,\u001b[0m\u001b[0my_pred\u001b[0m\u001b[0;34m)\u001b[0m\u001b[0;34m\u001b[0m\u001b[0;34m\u001b[0m\u001b[0m\n\u001b[0m\u001b[1;32m      3\u001b[0m \u001b[0mprint\u001b[0m\u001b[0;34m(\u001b[0m\u001b[0;34m\"Mean squared log error (MSLE): \"\u001b[0m\u001b[0;34m,\u001b[0m \u001b[0;34m'{:.3f}'\u001b[0m\u001b[0;34m.\u001b[0m\u001b[0mformat\u001b[0m\u001b[0;34m(\u001b[0m\u001b[0mMSLE\u001b[0m\u001b[0;34m)\u001b[0m\u001b[0;34m)\u001b[0m\u001b[0;34m\u001b[0m\u001b[0;34m\u001b[0m\u001b[0m\n\u001b[1;32m      4\u001b[0m \u001b[0mprint\u001b[0m\u001b[0;34m(\u001b[0m\u001b[0;34m\"Exp of RMSLE: \"\u001b[0m\u001b[0;34m,\u001b[0m \u001b[0;34m'{:.3f}'\u001b[0m\u001b[0;34m.\u001b[0m\u001b[0mformat\u001b[0m\u001b[0;34m(\u001b[0m\u001b[0mnp\u001b[0m\u001b[0;34m.\u001b[0m\u001b[0mexp\u001b[0m\u001b[0;34m(\u001b[0m\u001b[0mnp\u001b[0m\u001b[0;34m.\u001b[0m\u001b[0msqrt\u001b[0m\u001b[0;34m(\u001b[0m\u001b[0mMSLE\u001b[0m\u001b[0;34m)\u001b[0m\u001b[0;34m)\u001b[0m\u001b[0;34m)\u001b[0m\u001b[0;34m)\u001b[0m\u001b[0;34m\u001b[0m\u001b[0;34m\u001b[0m\u001b[0m\n\u001b[1;32m      5\u001b[0m \u001b[0mprint\u001b[0m\u001b[0;34m(\u001b[0m\u001b[0;34m\"R2 score: \"\u001b[0m\u001b[0;34m,\u001b[0m \u001b[0;34m'{:.3f}'\u001b[0m\u001b[0;34m.\u001b[0m\u001b[0mformat\u001b[0m\u001b[0;34m(\u001b[0m\u001b[0msklm\u001b[0m\u001b[0;34m.\u001b[0m\u001b[0mr2_score\u001b[0m\u001b[0;34m(\u001b[0m\u001b[0my\u001b[0m\u001b[0;34m,\u001b[0m\u001b[0my_pred\u001b[0m\u001b[0;34m)\u001b[0m\u001b[0;34m)\u001b[0m\u001b[0;34m)\u001b[0m\u001b[0;34m\u001b[0m\u001b[0;34m\u001b[0m\u001b[0m\n",
            "\u001b[0;31mNameError\u001b[0m: name 'sklm' is not defined"
          ]
        }
      ]
    },
    {
      "cell_type": "markdown",
      "metadata": {
        "id": "Boua6OQxR03M"
      },
      "source": [
        "# Computing some predictions"
      ]
    },
    {
      "cell_type": "markdown",
      "metadata": {
        "id": "BwegwKE75XTv"
      },
      "source": [
        "Calculate predictions for the last day"
      ]
    },
    {
      "cell_type": "code",
      "metadata": {
        "id": "OQ_FId5gR33F"
      },
      "source": [
        "chosenmodel='Logistic'\n",
        "\n",
        "if chosenmodel==\"Logistic\":\n",
        "    print(\"Chosen Model: \", chosenmodel)\n",
        "    reg_model = logistic_model\n",
        "elif chosenmodel=='Gompertz':\n",
        "    print(\"Chosen Model: \", chosenmodel)\n",
        "    reg_model = gompertz_model\n",
        "\n",
        "\n",
        "for country in countries_list:\n",
        "  print(\"\\n ***Country: \"+str(country))\n",
        "  x = np.array(list(df_dict[country]['DayCount'].values))\n",
        "  print(\"Used data, Day Count: \", x[-1+leaveout])\n",
        "  print(\"Used data, Last day date: \", datetime.strftime(df_dict[country].index[-1+leaveout], ' %d, %b %Y' ))\n",
        "  y = np.array(list(df_dict[country]['Cases'].values))\n",
        "  print(\"Used data, Number of cases: \"+casestr+\" in the last day: \", y[-1+leaveout])\n",
        "  print(\"---\")\n",
        "  pred_days = 0\n",
        "  day = x[-1]+pred_days\n",
        "  pred_date = datetime.strftime(df_dict[country].index[-1] + timedelta(days=pred_days), ' %d, %b %Y' )\n",
        "  print(\"Prediction for: \", pred_date)\n",
        "  \n",
        "  realdat = y[-1]\n",
        "\n",
        "\n",
        "  a,b,c = (c_pars[(country,chosenmodel,par)] for par in ['a','b','c'])\n",
        "  sigma_a,sigma_b,sigma_c = (c_pars[(country,chosenmodel,par)] for par in ['sga','sgb','sgc'])\n",
        "\n",
        "  prediction = reg_model(day,a,b,c)\n",
        "  pluspred = np.abs(reg_model(day,np.abs(a+sigma_a),np.abs(b+sigma_b),np.abs(c+sigma_c)))\n",
        "  minuspred = np.abs(reg_model(day,np.abs(a-sigma_a),np.abs(b-sigma_b),np.abs(c-sigma_c)))\n",
        "\n",
        "  print(\"Prediction from \"+chosenmodel+\" Model : \", frm(prediction), ' ( +'+frm(pluspred-prediction)+', -'+frm(prediction-minuspred)+')')\n",
        "\n",
        "  print(\"Real data: \", frm(realdat))\n",
        "  prediction_error_perc = 100*(prediction-realdat)/realdat\n",
        "  print(\"Prediction Percentage error: \", '{:2f}'.format(prediction_error_perc), '%')"
      ],
      "execution_count": null,
      "outputs": []
    },
    {
      "cell_type": "markdown",
      "metadata": {
        "id": "MAf1WCLD5koK"
      },
      "source": [
        "Choosing the colormap"
      ]
    },
    {
      "cell_type": "code",
      "metadata": {
        "id": "HDwAkuWD5lRm"
      },
      "source": [
        "color_list = plt.cm.Set1( np.linspace(0.,1.0, 9 ) )\n",
        "color_iter = iter(color_list)\n",
        "...\n",
        "...\n",
        "col=next(color_iter)"
      ],
      "execution_count": 27,
      "outputs": []
    },
    {
      "cell_type": "markdown",
      "metadata": {
        "id": "6mhM_lUH5u3f"
      },
      "source": [
        "Creating the date range for the plot"
      ]
    },
    {
      "cell_type": "code",
      "metadata": {
        "id": "0jDH8uJ65vpo"
      },
      "source": [
        "#getting the saved asymptote\n",
        "flatasymp = max([c_pars[(country,chosen_plotmodel,'c_time')] for country in countries_list])+1\n",
        "\n",
        "#finding the minimum date, namely date of first case among chosen countries\n",
        "mindate = min([df_dict[country].index[0] for country in countries_list])\n",
        "\n",
        "#creating a date range for the plot for each country\n",
        "pred_date = pd.date_range(start=df_dict[country].index[0], periods=flatasymp).values\n",
        "\n",
        "# using the mindate - 3days and the last predicted date + 3days for the x-limits of the plot\n",
        "ax.set_xlim([mindate-np.timedelta64(3,'D'), pred_date[-1]+np.timedelta64(3,'D')])"
      ],
      "execution_count": null,
      "outputs": []
    },
    {
      "cell_type": "markdown",
      "metadata": {
        "id": "hktPWOas50wc"
      },
      "source": [
        "Plotting the data, the mean of the models and their confidence contours"
      ]
    },
    {
      "cell_type": "code",
      "metadata": {
        "id": "y1gIi5xK515E"
      },
      "source": [
        "ax.scatter(df_dict[country].index ,y ,label=country,color=col)# Predicted logistic curve\n",
        "\n",
        "ax.plot(pred_date, mean, \n",
        "        label=chosen_plotmodel+\" model\", color=col)  #Predicted Logistic Curve\n",
        "\n",
        "ax.fill_between(pred_date, upper_lim, lower_lim, color=col, alpha=0.4)\n",
        "\n",
        "ax.plot(pred_date, [expo_model(i,p, N0=y0) for i in pred_x], '--', \n",
        "        label=\"Exponential model\", color=col)"
      ],
      "execution_count": null,
      "outputs": []
    }
  ]
}